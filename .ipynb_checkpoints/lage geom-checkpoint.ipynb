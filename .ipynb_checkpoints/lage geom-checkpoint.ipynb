{
 "cells": [
  {
   "cell_type": "code",
   "execution_count": 1,
   "id": "stock-class",
   "metadata": {},
   "outputs": [],
   "source": [
    "import os\n",
    "import pandas as pd\n",
    "\n",
    "from utilities.geometry import make_geometries, graph, nodes, edges\n",
    "from utilities.data import load_data, make_stations, make_trips, make_arrivals"
   ]
  },
  {
   "cell_type": "code",
   "execution_count": 4,
   "id": "macro-merchant",
   "metadata": {},
   "outputs": [
    {
     "name": "stdout",
     "output_type": "stream",
     "text": [
      "Python 3.7.10\n"
     ]
    }
   ],
   "source": [
    "!python --version # må være 3.7"
   ]
  },
  {
   "cell_type": "code",
   "execution_count": null,
   "id": "nervous-surrey",
   "metadata": {},
   "outputs": [],
   "source": [
    "df = load_data('2020-01-01', '2020-12-31')\n",
    "stations = make_stations(df)\n",
    "trips = make_trips(df)\n",
    "arrivals = make_arrivals(trips)"
   ]
  },
  {
   "cell_type": "code",
   "execution_count": null,
   "id": "utility-transportation",
   "metadata": {},
   "outputs": [],
   "source": [
    "geoms = make_geometries(stations, trips)"
   ]
  },
  {
   "cell_type": "code",
   "execution_count": null,
   "id": "transparent-stadium",
   "metadata": {},
   "outputs": [],
   "source": [
    "geoms.to_pickle('resources/geometries_walk')"
   ]
  }
 ],
 "metadata": {
  "kernelspec": {
   "display_name": "Python 3",
   "language": "python",
   "name": "python3"
  },
  "language_info": {
   "codemirror_mode": {
    "name": "ipython",
    "version": 3
   },
   "file_extension": ".py",
   "mimetype": "text/x-python",
   "name": "python",
   "nbconvert_exporter": "python",
   "pygments_lexer": "ipython3",
   "version": "3.7.10"
  },
  "latex_envs": {
   "LaTeX_envs_menu_present": true,
   "autoclose": true,
   "autocomplete": true,
   "bibliofile": "biblio.bib",
   "cite_by": "apalike",
   "current_citInitial": 1,
   "eqLabelWithNumbers": true,
   "eqNumInitial": 1,
   "hotkeys": {
    "equation": "Ctrl-E",
    "itemize": "Ctrl-I"
   },
   "labels_anchors": false,
   "latex_user_defs": false,
   "report_style_numbering": false,
   "user_envs_cfg": false
  },
  "toc": {
   "base_numbering": 1,
   "nav_menu": {},
   "number_sections": true,
   "sideBar": true,
   "skip_h1_title": false,
   "title_cell": "Table of Contents",
   "title_sidebar": "Contents",
   "toc_cell": false,
   "toc_position": {},
   "toc_section_display": true,
   "toc_window_display": false
  }
 },
 "nbformat": 4,
 "nbformat_minor": 5
}
