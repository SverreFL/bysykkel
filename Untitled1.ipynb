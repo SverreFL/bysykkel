{
 "cells": [
  {
   "cell_type": "code",
   "execution_count": 128,
   "id": "comic-edition",
   "metadata": {},
   "outputs": [
    {
     "data": {
      "application/javascript": [
       "\n",
       "(function(root) {\n",
       "  function now() {\n",
       "    return new Date();\n",
       "  }\n",
       "\n",
       "  var force = true;\n",
       "\n",
       "  if (typeof root._bokeh_onload_callbacks === \"undefined\" || force === true) {\n",
       "    root._bokeh_onload_callbacks = [];\n",
       "    root._bokeh_is_loading = undefined;\n",
       "  }\n",
       "\n",
       "  if (typeof (root._bokeh_timeout) === \"undefined\" || force === true) {\n",
       "    root._bokeh_timeout = Date.now() + 5000;\n",
       "    root._bokeh_failed_load = false;\n",
       "  }\n",
       "\n",
       "  function run_callbacks() {\n",
       "    try {\n",
       "      root._bokeh_onload_callbacks.forEach(function(callback) {\n",
       "        if (callback != null)\n",
       "          callback();\n",
       "      });\n",
       "    } finally {\n",
       "      delete root._bokeh_onload_callbacks\n",
       "    }\n",
       "    console.debug(\"Bokeh: all callbacks have finished\");\n",
       "  }\n",
       "\n",
       "  function load_libs(css_urls, js_urls, js_modules, callback) {\n",
       "    if (css_urls == null) css_urls = [];\n",
       "    if (js_urls == null) js_urls = [];\n",
       "    if (js_modules == null) js_modules = [];\n",
       "\n",
       "    root._bokeh_onload_callbacks.push(callback);\n",
       "    if (root._bokeh_is_loading > 0) {\n",
       "      console.debug(\"Bokeh: BokehJS is being loaded, scheduling callback at\", now());\n",
       "      return null;\n",
       "    }\n",
       "    if (js_urls.length === 0 && js_modules.length === 0) {\n",
       "      run_callbacks();\n",
       "      return null;\n",
       "    }\n",
       "    console.debug(\"Bokeh: BokehJS not loaded, scheduling load and callback at\", now());\n",
       "    root._bokeh_is_loading = css_urls.length + js_urls.length + js_modules.length;\n",
       "\n",
       "    function on_load() {\n",
       "      root._bokeh_is_loading--;\n",
       "      if (root._bokeh_is_loading === 0) {\n",
       "        console.debug(\"Bokeh: all BokehJS libraries/stylesheets loaded\");\n",
       "        run_callbacks()\n",
       "      }\n",
       "    }\n",
       "\n",
       "    function on_error() {\n",
       "      console.error(\"failed to load \" + url);\n",
       "    }\n",
       "\n",
       "    for (var i = 0; i < css_urls.length; i++) {\n",
       "      var url = css_urls[i];\n",
       "      const element = document.createElement(\"link\");\n",
       "      element.onload = on_load;\n",
       "      element.onerror = on_error;\n",
       "      element.rel = \"stylesheet\";\n",
       "      element.type = \"text/css\";\n",
       "      element.href = url;\n",
       "      console.debug(\"Bokeh: injecting link tag for BokehJS stylesheet: \", url);\n",
       "      document.body.appendChild(element);\n",
       "    }\n",
       "\n",
       "    var skip = [];\n",
       "    if (window.requirejs) {\n",
       "      window.requirejs.config({'paths': {'tabulator': 'https://unpkg.com/tabulator-tables@4.9.3/dist/js/tabulator'}});\n",
       "      require([], function() {\n",
       "      })\n",
       "    }\n",
       "    if (((window['tabulator'] !== undefined) && (!(window['tabulator'] instanceof HTMLElement))) || window.requirejs) {\n",
       "      var urls = ['https://unpkg.com/tabulator-tables@4.9.3/dist/js/tabulator.js', 'https://unpkg.com/moment@2.27.0/moment.js'];\n",
       "      for (var i = 0; i < urls.length; i++) {\n",
       "        skip.push(urls[i])\n",
       "      }\n",
       "    }\n",
       "    for (var i = 0; i < js_urls.length; i++) {\n",
       "      var url = js_urls[i];\n",
       "      if (skip.indexOf(url) >= 0) { on_load(); continue; }\n",
       "      var element = document.createElement('script');\n",
       "      element.onload = on_load;\n",
       "      element.onerror = on_error;\n",
       "      element.async = false;\n",
       "      element.src = url;\n",
       "      console.debug(\"Bokeh: injecting script tag for BokehJS library: \", url);\n",
       "      document.head.appendChild(element);\n",
       "    }\n",
       "    for (var i = 0; i < js_modules.length; i++) {\n",
       "      var url = js_modules[i];\n",
       "      if (skip.indexOf(url) >= 0) { on_load(); continue; }\n",
       "      var element = document.createElement('script');\n",
       "      element.onload = on_load;\n",
       "      element.onerror = on_error;\n",
       "      element.async = false;\n",
       "      element.src = url;\n",
       "      element.type = \"module\";\n",
       "      console.debug(\"Bokeh: injecting script tag for BokehJS library: \", url);\n",
       "      document.head.appendChild(element);\n",
       "    }\n",
       "    if (!js_urls.length && !js_modules.length) {\n",
       "      on_load()\n",
       "    }\n",
       "  };\n",
       "\n",
       "  function inject_raw_css(css) {\n",
       "    const element = document.createElement(\"style\");\n",
       "    element.appendChild(document.createTextNode(css));\n",
       "    document.body.appendChild(element);\n",
       "  }\n",
       "\n",
       "  var js_urls = [\"https://unpkg.com/tabulator-tables@4.9.3/dist/js/tabulator.js\", \"https://unpkg.com/moment@2.27.0/moment.js\", \"https://cdn.bokeh.org/bokeh/release/bokeh-2.3.0.min.js\", \"https://cdn.bokeh.org/bokeh/release/bokeh-widgets-2.3.0.min.js\", \"https://cdn.bokeh.org/bokeh/release/bokeh-tables-2.3.0.min.js\", \"https://unpkg.com/@holoviz/panel@^0.11.1/dist/panel.min.js\"];\n",
       "  var js_modules = [];\n",
       "  var css_urls = [\"https://unpkg.com/tabulator-tables@4.9.3/dist/css/tabulator_simple.min.css\", \"https://unpkg.com/@holoviz/panel@0.11.1/dist/css/alerts.css\", \"https://unpkg.com/@holoviz/panel@0.11.1/dist/css/card.css\", \"https://unpkg.com/@holoviz/panel@0.11.1/dist/css/dataframe.css\", \"https://unpkg.com/@holoviz/panel@0.11.1/dist/css/json.css\", \"https://unpkg.com/@holoviz/panel@0.11.1/dist/css/loading.css\", \"https://unpkg.com/@holoviz/panel@0.11.1/dist/css/markdown.css\", \"https://unpkg.com/@holoviz/panel@0.11.1/dist/css/widgets.css\"];\n",
       "  var inline_js = [\n",
       "    function(Bokeh) {\n",
       "      inject_raw_css(\"\\n    .bk.pn-loading.arcs:before {\\n      background-image: url(\\\"data:image/svg+xml;base64,PHN2ZyB4bWxucz0iaHR0cDovL3d3dy53My5vcmcvMjAwMC9zdmciIHhtbG5zOnhsaW5rPSJodHRwOi8vd3d3LnczLm9yZy8xOTk5L3hsaW5rIiBzdHlsZT0ibWFyZ2luOiBhdXRvOyBiYWNrZ3JvdW5kOiBub25lOyBkaXNwbGF5OiBibG9jazsgc2hhcGUtcmVuZGVyaW5nOiBhdXRvOyIgdmlld0JveD0iMCAwIDEwMCAxMDAiIHByZXNlcnZlQXNwZWN0UmF0aW89InhNaWRZTWlkIj4gIDxjaXJjbGUgY3g9IjUwIiBjeT0iNTAiIHI9IjMyIiBzdHJva2Utd2lkdGg9IjgiIHN0cm9rZT0iI2MzYzNjMyIgc3Ryb2tlLWRhc2hhcnJheT0iNTAuMjY1NDgyNDU3NDM2NjkgNTAuMjY1NDgyNDU3NDM2NjkiIGZpbGw9Im5vbmUiIHN0cm9rZS1saW5lY2FwPSJyb3VuZCI+ICAgIDxhbmltYXRlVHJhbnNmb3JtIGF0dHJpYnV0ZU5hbWU9InRyYW5zZm9ybSIgdHlwZT0icm90YXRlIiByZXBlYXRDb3VudD0iaW5kZWZpbml0ZSIgZHVyPSIxcyIga2V5VGltZXM9IjA7MSIgdmFsdWVzPSIwIDUwIDUwOzM2MCA1MCA1MCI+PC9hbmltYXRlVHJhbnNmb3JtPiAgPC9jaXJjbGU+PC9zdmc+\\\")\\n    }\\n    \");\n",
       "    },\n",
       "    function(Bokeh) {\n",
       "      Bokeh.set_log_level(\"info\");\n",
       "    },\n",
       "    function(Bokeh) {} // ensure no trailing comma for IE\n",
       "  ];\n",
       "\n",
       "  function run_inline_js() {\n",
       "    if ((root.Bokeh !== undefined) || (force === true)) {\n",
       "      for (var i = 0; i < inline_js.length; i++) {\n",
       "        inline_js[i].call(root, root.Bokeh);\n",
       "      }} else if (Date.now() < root._bokeh_timeout) {\n",
       "      setTimeout(run_inline_js, 100);\n",
       "    } else if (!root._bokeh_failed_load) {\n",
       "      console.log(\"Bokeh: BokehJS failed to load within specified timeout.\");\n",
       "      root._bokeh_failed_load = true;\n",
       "    }\n",
       "  }\n",
       "\n",
       "  if (root._bokeh_is_loading === 0) {\n",
       "    console.debug(\"Bokeh: BokehJS loaded, going straight to plotting\");\n",
       "    run_inline_js();\n",
       "  } else {\n",
       "    load_libs(css_urls, js_urls, js_modules, function() {\n",
       "      console.debug(\"Bokeh: BokehJS plotting callback run at\", now());\n",
       "      run_inline_js();\n",
       "    });\n",
       "  }\n",
       "}(window));"
      ],
      "application/vnd.holoviews_load.v0+json": "\n(function(root) {\n  function now() {\n    return new Date();\n  }\n\n  var force = true;\n\n  if (typeof root._bokeh_onload_callbacks === \"undefined\" || force === true) {\n    root._bokeh_onload_callbacks = [];\n    root._bokeh_is_loading = undefined;\n  }\n\n  if (typeof (root._bokeh_timeout) === \"undefined\" || force === true) {\n    root._bokeh_timeout = Date.now() + 5000;\n    root._bokeh_failed_load = false;\n  }\n\n  function run_callbacks() {\n    try {\n      root._bokeh_onload_callbacks.forEach(function(callback) {\n        if (callback != null)\n          callback();\n      });\n    } finally {\n      delete root._bokeh_onload_callbacks\n    }\n    console.debug(\"Bokeh: all callbacks have finished\");\n  }\n\n  function load_libs(css_urls, js_urls, js_modules, callback) {\n    if (css_urls == null) css_urls = [];\n    if (js_urls == null) js_urls = [];\n    if (js_modules == null) js_modules = [];\n\n    root._bokeh_onload_callbacks.push(callback);\n    if (root._bokeh_is_loading > 0) {\n      console.debug(\"Bokeh: BokehJS is being loaded, scheduling callback at\", now());\n      return null;\n    }\n    if (js_urls.length === 0 && js_modules.length === 0) {\n      run_callbacks();\n      return null;\n    }\n    console.debug(\"Bokeh: BokehJS not loaded, scheduling load and callback at\", now());\n    root._bokeh_is_loading = css_urls.length + js_urls.length + js_modules.length;\n\n    function on_load() {\n      root._bokeh_is_loading--;\n      if (root._bokeh_is_loading === 0) {\n        console.debug(\"Bokeh: all BokehJS libraries/stylesheets loaded\");\n        run_callbacks()\n      }\n    }\n\n    function on_error() {\n      console.error(\"failed to load \" + url);\n    }\n\n    for (var i = 0; i < css_urls.length; i++) {\n      var url = css_urls[i];\n      const element = document.createElement(\"link\");\n      element.onload = on_load;\n      element.onerror = on_error;\n      element.rel = \"stylesheet\";\n      element.type = \"text/css\";\n      element.href = url;\n      console.debug(\"Bokeh: injecting link tag for BokehJS stylesheet: \", url);\n      document.body.appendChild(element);\n    }\n\n    var skip = [];\n    if (window.requirejs) {\n      window.requirejs.config({'paths': {'tabulator': 'https://unpkg.com/tabulator-tables@4.9.3/dist/js/tabulator'}});\n      require([], function() {\n      })\n    }\n    if (((window['tabulator'] !== undefined) && (!(window['tabulator'] instanceof HTMLElement))) || window.requirejs) {\n      var urls = ['https://unpkg.com/tabulator-tables@4.9.3/dist/js/tabulator.js', 'https://unpkg.com/moment@2.27.0/moment.js'];\n      for (var i = 0; i < urls.length; i++) {\n        skip.push(urls[i])\n      }\n    }\n    for (var i = 0; i < js_urls.length; i++) {\n      var url = js_urls[i];\n      if (skip.indexOf(url) >= 0) { on_load(); continue; }\n      var element = document.createElement('script');\n      element.onload = on_load;\n      element.onerror = on_error;\n      element.async = false;\n      element.src = url;\n      console.debug(\"Bokeh: injecting script tag for BokehJS library: \", url);\n      document.head.appendChild(element);\n    }\n    for (var i = 0; i < js_modules.length; i++) {\n      var url = js_modules[i];\n      if (skip.indexOf(url) >= 0) { on_load(); continue; }\n      var element = document.createElement('script');\n      element.onload = on_load;\n      element.onerror = on_error;\n      element.async = false;\n      element.src = url;\n      element.type = \"module\";\n      console.debug(\"Bokeh: injecting script tag for BokehJS library: \", url);\n      document.head.appendChild(element);\n    }\n    if (!js_urls.length && !js_modules.length) {\n      on_load()\n    }\n  };\n\n  function inject_raw_css(css) {\n    const element = document.createElement(\"style\");\n    element.appendChild(document.createTextNode(css));\n    document.body.appendChild(element);\n  }\n\n  var js_urls = [\"https://unpkg.com/tabulator-tables@4.9.3/dist/js/tabulator.js\", \"https://unpkg.com/moment@2.27.0/moment.js\", \"https://cdn.bokeh.org/bokeh/release/bokeh-2.3.0.min.js\", \"https://cdn.bokeh.org/bokeh/release/bokeh-widgets-2.3.0.min.js\", \"https://cdn.bokeh.org/bokeh/release/bokeh-tables-2.3.0.min.js\", \"https://unpkg.com/@holoviz/panel@^0.11.1/dist/panel.min.js\"];\n  var js_modules = [];\n  var css_urls = [\"https://unpkg.com/tabulator-tables@4.9.3/dist/css/tabulator_simple.min.css\", \"https://unpkg.com/@holoviz/panel@0.11.1/dist/css/alerts.css\", \"https://unpkg.com/@holoviz/panel@0.11.1/dist/css/card.css\", \"https://unpkg.com/@holoviz/panel@0.11.1/dist/css/dataframe.css\", \"https://unpkg.com/@holoviz/panel@0.11.1/dist/css/json.css\", \"https://unpkg.com/@holoviz/panel@0.11.1/dist/css/loading.css\", \"https://unpkg.com/@holoviz/panel@0.11.1/dist/css/markdown.css\", \"https://unpkg.com/@holoviz/panel@0.11.1/dist/css/widgets.css\"];\n  var inline_js = [\n    function(Bokeh) {\n      inject_raw_css(\"\\n    .bk.pn-loading.arcs:before {\\n      background-image: url(\\\"data:image/svg+xml;base64,PHN2ZyB4bWxucz0iaHR0cDovL3d3dy53My5vcmcvMjAwMC9zdmciIHhtbG5zOnhsaW5rPSJodHRwOi8vd3d3LnczLm9yZy8xOTk5L3hsaW5rIiBzdHlsZT0ibWFyZ2luOiBhdXRvOyBiYWNrZ3JvdW5kOiBub25lOyBkaXNwbGF5OiBibG9jazsgc2hhcGUtcmVuZGVyaW5nOiBhdXRvOyIgdmlld0JveD0iMCAwIDEwMCAxMDAiIHByZXNlcnZlQXNwZWN0UmF0aW89InhNaWRZTWlkIj4gIDxjaXJjbGUgY3g9IjUwIiBjeT0iNTAiIHI9IjMyIiBzdHJva2Utd2lkdGg9IjgiIHN0cm9rZT0iI2MzYzNjMyIgc3Ryb2tlLWRhc2hhcnJheT0iNTAuMjY1NDgyNDU3NDM2NjkgNTAuMjY1NDgyNDU3NDM2NjkiIGZpbGw9Im5vbmUiIHN0cm9rZS1saW5lY2FwPSJyb3VuZCI+ICAgIDxhbmltYXRlVHJhbnNmb3JtIGF0dHJpYnV0ZU5hbWU9InRyYW5zZm9ybSIgdHlwZT0icm90YXRlIiByZXBlYXRDb3VudD0iaW5kZWZpbml0ZSIgZHVyPSIxcyIga2V5VGltZXM9IjA7MSIgdmFsdWVzPSIwIDUwIDUwOzM2MCA1MCA1MCI+PC9hbmltYXRlVHJhbnNmb3JtPiAgPC9jaXJjbGU+PC9zdmc+\\\")\\n    }\\n    \");\n    },\n    function(Bokeh) {\n      Bokeh.set_log_level(\"info\");\n    },\n    function(Bokeh) {} // ensure no trailing comma for IE\n  ];\n\n  function run_inline_js() {\n    if ((root.Bokeh !== undefined) || (force === true)) {\n      for (var i = 0; i < inline_js.length; i++) {\n        inline_js[i].call(root, root.Bokeh);\n      }} else if (Date.now() < root._bokeh_timeout) {\n      setTimeout(run_inline_js, 100);\n    } else if (!root._bokeh_failed_load) {\n      console.log(\"Bokeh: BokehJS failed to load within specified timeout.\");\n      root._bokeh_failed_load = true;\n    }\n  }\n\n  if (root._bokeh_is_loading === 0) {\n    console.debug(\"Bokeh: BokehJS loaded, going straight to plotting\");\n    run_inline_js();\n  } else {\n    load_libs(css_urls, js_urls, js_modules, function() {\n      console.debug(\"Bokeh: BokehJS plotting callback run at\", now());\n      run_inline_js();\n    });\n  }\n}(window));"
     },
     "metadata": {},
     "output_type": "display_data"
    },
    {
     "data": {
      "application/javascript": [
       "\n",
       "if ((window.PyViz === undefined) || (window.PyViz instanceof HTMLElement)) {\n",
       "  window.PyViz = {comms: {}, comm_status:{}, kernels:{}, receivers: {}, plot_index: []}\n",
       "}\n",
       "\n",
       "\n",
       "    function JupyterCommManager() {\n",
       "    }\n",
       "\n",
       "    JupyterCommManager.prototype.register_target = function(plot_id, comm_id, msg_handler) {\n",
       "      if (window.comm_manager || ((window.Jupyter !== undefined) && (Jupyter.notebook.kernel != null))) {\n",
       "        var comm_manager = window.comm_manager || Jupyter.notebook.kernel.comm_manager;\n",
       "        comm_manager.register_target(comm_id, function(comm) {\n",
       "          comm.on_msg(msg_handler);\n",
       "        });\n",
       "      } else if ((plot_id in window.PyViz.kernels) && (window.PyViz.kernels[plot_id])) {\n",
       "        window.PyViz.kernels[plot_id].registerCommTarget(comm_id, function(comm) {\n",
       "          comm.onMsg = msg_handler;\n",
       "        });\n",
       "      } else if (typeof google != 'undefined' && google.colab.kernel != null) {\n",
       "        google.colab.kernel.comms.registerTarget(comm_id, (comm) => {\n",
       "          var messages = comm.messages[Symbol.asyncIterator]();\n",
       "          function processIteratorResult(result) {\n",
       "            var message = result.value;\n",
       "            console.log(message)\n",
       "            var content = {data: message.data, comm_id};\n",
       "            var buffers = []\n",
       "            for (var buffer of message.buffers || []) {\n",
       "              buffers.push(new DataView(buffer))\n",
       "            }\n",
       "            var metadata = message.metadata || {};\n",
       "            var msg = {content, buffers, metadata}\n",
       "            msg_handler(msg);\n",
       "            return messages.next().then(processIteratorResult);\n",
       "          }\n",
       "          return messages.next().then(processIteratorResult);\n",
       "        })\n",
       "      }\n",
       "    }\n",
       "\n",
       "    JupyterCommManager.prototype.get_client_comm = function(plot_id, comm_id, msg_handler) {\n",
       "      if (comm_id in window.PyViz.comms) {\n",
       "        return window.PyViz.comms[comm_id];\n",
       "      } else if (window.comm_manager || ((window.Jupyter !== undefined) && (Jupyter.notebook.kernel != null))) {\n",
       "        var comm_manager = window.comm_manager || Jupyter.notebook.kernel.comm_manager;\n",
       "        var comm = comm_manager.new_comm(comm_id, {}, {}, {}, comm_id);\n",
       "        if (msg_handler) {\n",
       "          comm.on_msg(msg_handler);\n",
       "        }\n",
       "      } else if ((plot_id in window.PyViz.kernels) && (window.PyViz.kernels[plot_id])) {\n",
       "        var comm = window.PyViz.kernels[plot_id].connectToComm(comm_id);\n",
       "        comm.open();\n",
       "        if (msg_handler) {\n",
       "          comm.onMsg = msg_handler;\n",
       "        }\n",
       "      } else if (typeof google != 'undefined' && google.colab.kernel != null) {\n",
       "        var comm_promise = google.colab.kernel.comms.open(comm_id)\n",
       "        comm_promise.then((comm) => {\n",
       "          window.PyViz.comms[comm_id] = comm;\n",
       "          if (msg_handler) {\n",
       "            var messages = comm.messages[Symbol.asyncIterator]();\n",
       "            function processIteratorResult(result) {\n",
       "              var message = result.value;\n",
       "              var content = {data: message.data};\n",
       "              var metadata = message.metadata || {comm_id};\n",
       "              var msg = {content, metadata}\n",
       "              msg_handler(msg);\n",
       "              return messages.next().then(processIteratorResult);\n",
       "            }\n",
       "            return messages.next().then(processIteratorResult);\n",
       "          }\n",
       "        }) \n",
       "        var sendClosure = (data, metadata, buffers, disposeOnDone) => {\n",
       "          return comm_promise.then((comm) => {\n",
       "            comm.send(data, metadata, buffers, disposeOnDone);\n",
       "          });\n",
       "        };\n",
       "        var comm = {\n",
       "          send: sendClosure\n",
       "        };\n",
       "      }\n",
       "      window.PyViz.comms[comm_id] = comm;\n",
       "      return comm;\n",
       "    }\n",
       "    window.PyViz.comm_manager = new JupyterCommManager();\n",
       "    \n",
       "\n",
       "\n",
       "var JS_MIME_TYPE = 'application/javascript';\n",
       "var HTML_MIME_TYPE = 'text/html';\n",
       "var EXEC_MIME_TYPE = 'application/vnd.holoviews_exec.v0+json';\n",
       "var CLASS_NAME = 'output';\n",
       "\n",
       "/**\n",
       " * Render data to the DOM node\n",
       " */\n",
       "function render(props, node) {\n",
       "  var div = document.createElement(\"div\");\n",
       "  var script = document.createElement(\"script\");\n",
       "  node.appendChild(div);\n",
       "  node.appendChild(script);\n",
       "}\n",
       "\n",
       "/**\n",
       " * Handle when a new output is added\n",
       " */\n",
       "function handle_add_output(event, handle) {\n",
       "  var output_area = handle.output_area;\n",
       "  var output = handle.output;\n",
       "  if ((output.data == undefined) || (!output.data.hasOwnProperty(EXEC_MIME_TYPE))) {\n",
       "    return\n",
       "  }\n",
       "  var id = output.metadata[EXEC_MIME_TYPE][\"id\"];\n",
       "  var toinsert = output_area.element.find(\".\" + CLASS_NAME.split(' ')[0]);\n",
       "  if (id !== undefined) {\n",
       "    var nchildren = toinsert.length;\n",
       "    var html_node = toinsert[nchildren-1].children[0];\n",
       "    html_node.innerHTML = output.data[HTML_MIME_TYPE];\n",
       "    var scripts = [];\n",
       "    var nodelist = html_node.querySelectorAll(\"script\");\n",
       "    for (var i in nodelist) {\n",
       "      if (nodelist.hasOwnProperty(i)) {\n",
       "        scripts.push(nodelist[i])\n",
       "      }\n",
       "    }\n",
       "\n",
       "    scripts.forEach( function (oldScript) {\n",
       "      var newScript = document.createElement(\"script\");\n",
       "      var attrs = [];\n",
       "      var nodemap = oldScript.attributes;\n",
       "      for (var j in nodemap) {\n",
       "        if (nodemap.hasOwnProperty(j)) {\n",
       "          attrs.push(nodemap[j])\n",
       "        }\n",
       "      }\n",
       "      attrs.forEach(function(attr) { newScript.setAttribute(attr.name, attr.value) });\n",
       "      newScript.appendChild(document.createTextNode(oldScript.innerHTML));\n",
       "      oldScript.parentNode.replaceChild(newScript, oldScript);\n",
       "    });\n",
       "    if (JS_MIME_TYPE in output.data) {\n",
       "      toinsert[nchildren-1].children[1].textContent = output.data[JS_MIME_TYPE];\n",
       "    }\n",
       "    output_area._hv_plot_id = id;\n",
       "    if ((window.Bokeh !== undefined) && (id in Bokeh.index)) {\n",
       "      window.PyViz.plot_index[id] = Bokeh.index[id];\n",
       "    } else {\n",
       "      window.PyViz.plot_index[id] = null;\n",
       "    }\n",
       "  } else if (output.metadata[EXEC_MIME_TYPE][\"server_id\"] !== undefined) {\n",
       "    var bk_div = document.createElement(\"div\");\n",
       "    bk_div.innerHTML = output.data[HTML_MIME_TYPE];\n",
       "    var script_attrs = bk_div.children[0].attributes;\n",
       "    for (var i = 0; i < script_attrs.length; i++) {\n",
       "      toinsert[toinsert.length - 1].childNodes[1].setAttribute(script_attrs[i].name, script_attrs[i].value);\n",
       "    }\n",
       "    // store reference to server id on output_area\n",
       "    output_area._bokeh_server_id = output.metadata[EXEC_MIME_TYPE][\"server_id\"];\n",
       "  }\n",
       "}\n",
       "\n",
       "/**\n",
       " * Handle when an output is cleared or removed\n",
       " */\n",
       "function handle_clear_output(event, handle) {\n",
       "  var id = handle.cell.output_area._hv_plot_id;\n",
       "  var server_id = handle.cell.output_area._bokeh_server_id;\n",
       "  if (((id === undefined) || !(id in PyViz.plot_index)) && (server_id !== undefined)) { return; }\n",
       "  var comm = window.PyViz.comm_manager.get_client_comm(\"hv-extension-comm\", \"hv-extension-comm\", function () {});\n",
       "  if (server_id !== null) {\n",
       "    comm.send({event_type: 'server_delete', 'id': server_id});\n",
       "    return;\n",
       "  } else if (comm !== null) {\n",
       "    comm.send({event_type: 'delete', 'id': id});\n",
       "  }\n",
       "  delete PyViz.plot_index[id];\n",
       "  if ((window.Bokeh !== undefined) & (id in window.Bokeh.index)) {\n",
       "    var doc = window.Bokeh.index[id].model.document\n",
       "    doc.clear();\n",
       "    const i = window.Bokeh.documents.indexOf(doc);\n",
       "    if (i > -1) {\n",
       "      window.Bokeh.documents.splice(i, 1);\n",
       "    }\n",
       "  }\n",
       "}\n",
       "\n",
       "/**\n",
       " * Handle kernel restart event\n",
       " */\n",
       "function handle_kernel_cleanup(event, handle) {\n",
       "  delete PyViz.comms[\"hv-extension-comm\"];\n",
       "  window.PyViz.plot_index = {}\n",
       "}\n",
       "\n",
       "/**\n",
       " * Handle update_display_data messages\n",
       " */\n",
       "function handle_update_output(event, handle) {\n",
       "  handle_clear_output(event, {cell: {output_area: handle.output_area}})\n",
       "  handle_add_output(event, handle)\n",
       "}\n",
       "\n",
       "function register_renderer(events, OutputArea) {\n",
       "  function append_mime(data, metadata, element) {\n",
       "    // create a DOM node to render to\n",
       "    var toinsert = this.create_output_subarea(\n",
       "    metadata,\n",
       "    CLASS_NAME,\n",
       "    EXEC_MIME_TYPE\n",
       "    );\n",
       "    this.keyboard_manager.register_events(toinsert);\n",
       "    // Render to node\n",
       "    var props = {data: data, metadata: metadata[EXEC_MIME_TYPE]};\n",
       "    render(props, toinsert[0]);\n",
       "    element.append(toinsert);\n",
       "    return toinsert\n",
       "  }\n",
       "\n",
       "  events.on('output_added.OutputArea', handle_add_output);\n",
       "  events.on('output_updated.OutputArea', handle_update_output);\n",
       "  events.on('clear_output.CodeCell', handle_clear_output);\n",
       "  events.on('delete.Cell', handle_clear_output);\n",
       "  events.on('kernel_ready.Kernel', handle_kernel_cleanup);\n",
       "\n",
       "  OutputArea.prototype.register_mime_type(EXEC_MIME_TYPE, append_mime, {\n",
       "    safe: true,\n",
       "    index: 0\n",
       "  });\n",
       "}\n",
       "\n",
       "if (window.Jupyter !== undefined) {\n",
       "  try {\n",
       "    var events = require('base/js/events');\n",
       "    var OutputArea = require('notebook/js/outputarea').OutputArea;\n",
       "    if (OutputArea.prototype.mime_types().indexOf(EXEC_MIME_TYPE) == -1) {\n",
       "      register_renderer(events, OutputArea);\n",
       "    }\n",
       "  } catch(err) {\n",
       "  }\n",
       "}\n"
      ],
      "application/vnd.holoviews_load.v0+json": "\nif ((window.PyViz === undefined) || (window.PyViz instanceof HTMLElement)) {\n  window.PyViz = {comms: {}, comm_status:{}, kernels:{}, receivers: {}, plot_index: []}\n}\n\n\n    function JupyterCommManager() {\n    }\n\n    JupyterCommManager.prototype.register_target = function(plot_id, comm_id, msg_handler) {\n      if (window.comm_manager || ((window.Jupyter !== undefined) && (Jupyter.notebook.kernel != null))) {\n        var comm_manager = window.comm_manager || Jupyter.notebook.kernel.comm_manager;\n        comm_manager.register_target(comm_id, function(comm) {\n          comm.on_msg(msg_handler);\n        });\n      } else if ((plot_id in window.PyViz.kernels) && (window.PyViz.kernels[plot_id])) {\n        window.PyViz.kernels[plot_id].registerCommTarget(comm_id, function(comm) {\n          comm.onMsg = msg_handler;\n        });\n      } else if (typeof google != 'undefined' && google.colab.kernel != null) {\n        google.colab.kernel.comms.registerTarget(comm_id, (comm) => {\n          var messages = comm.messages[Symbol.asyncIterator]();\n          function processIteratorResult(result) {\n            var message = result.value;\n            console.log(message)\n            var content = {data: message.data, comm_id};\n            var buffers = []\n            for (var buffer of message.buffers || []) {\n              buffers.push(new DataView(buffer))\n            }\n            var metadata = message.metadata || {};\n            var msg = {content, buffers, metadata}\n            msg_handler(msg);\n            return messages.next().then(processIteratorResult);\n          }\n          return messages.next().then(processIteratorResult);\n        })\n      }\n    }\n\n    JupyterCommManager.prototype.get_client_comm = function(plot_id, comm_id, msg_handler) {\n      if (comm_id in window.PyViz.comms) {\n        return window.PyViz.comms[comm_id];\n      } else if (window.comm_manager || ((window.Jupyter !== undefined) && (Jupyter.notebook.kernel != null))) {\n        var comm_manager = window.comm_manager || Jupyter.notebook.kernel.comm_manager;\n        var comm = comm_manager.new_comm(comm_id, {}, {}, {}, comm_id);\n        if (msg_handler) {\n          comm.on_msg(msg_handler);\n        }\n      } else if ((plot_id in window.PyViz.kernels) && (window.PyViz.kernels[plot_id])) {\n        var comm = window.PyViz.kernels[plot_id].connectToComm(comm_id);\n        comm.open();\n        if (msg_handler) {\n          comm.onMsg = msg_handler;\n        }\n      } else if (typeof google != 'undefined' && google.colab.kernel != null) {\n        var comm_promise = google.colab.kernel.comms.open(comm_id)\n        comm_promise.then((comm) => {\n          window.PyViz.comms[comm_id] = comm;\n          if (msg_handler) {\n            var messages = comm.messages[Symbol.asyncIterator]();\n            function processIteratorResult(result) {\n              var message = result.value;\n              var content = {data: message.data};\n              var metadata = message.metadata || {comm_id};\n              var msg = {content, metadata}\n              msg_handler(msg);\n              return messages.next().then(processIteratorResult);\n            }\n            return messages.next().then(processIteratorResult);\n          }\n        }) \n        var sendClosure = (data, metadata, buffers, disposeOnDone) => {\n          return comm_promise.then((comm) => {\n            comm.send(data, metadata, buffers, disposeOnDone);\n          });\n        };\n        var comm = {\n          send: sendClosure\n        };\n      }\n      window.PyViz.comms[comm_id] = comm;\n      return comm;\n    }\n    window.PyViz.comm_manager = new JupyterCommManager();\n    \n\n\nvar JS_MIME_TYPE = 'application/javascript';\nvar HTML_MIME_TYPE = 'text/html';\nvar EXEC_MIME_TYPE = 'application/vnd.holoviews_exec.v0+json';\nvar CLASS_NAME = 'output';\n\n/**\n * Render data to the DOM node\n */\nfunction render(props, node) {\n  var div = document.createElement(\"div\");\n  var script = document.createElement(\"script\");\n  node.appendChild(div);\n  node.appendChild(script);\n}\n\n/**\n * Handle when a new output is added\n */\nfunction handle_add_output(event, handle) {\n  var output_area = handle.output_area;\n  var output = handle.output;\n  if ((output.data == undefined) || (!output.data.hasOwnProperty(EXEC_MIME_TYPE))) {\n    return\n  }\n  var id = output.metadata[EXEC_MIME_TYPE][\"id\"];\n  var toinsert = output_area.element.find(\".\" + CLASS_NAME.split(' ')[0]);\n  if (id !== undefined) {\n    var nchildren = toinsert.length;\n    var html_node = toinsert[nchildren-1].children[0];\n    html_node.innerHTML = output.data[HTML_MIME_TYPE];\n    var scripts = [];\n    var nodelist = html_node.querySelectorAll(\"script\");\n    for (var i in nodelist) {\n      if (nodelist.hasOwnProperty(i)) {\n        scripts.push(nodelist[i])\n      }\n    }\n\n    scripts.forEach( function (oldScript) {\n      var newScript = document.createElement(\"script\");\n      var attrs = [];\n      var nodemap = oldScript.attributes;\n      for (var j in nodemap) {\n        if (nodemap.hasOwnProperty(j)) {\n          attrs.push(nodemap[j])\n        }\n      }\n      attrs.forEach(function(attr) { newScript.setAttribute(attr.name, attr.value) });\n      newScript.appendChild(document.createTextNode(oldScript.innerHTML));\n      oldScript.parentNode.replaceChild(newScript, oldScript);\n    });\n    if (JS_MIME_TYPE in output.data) {\n      toinsert[nchildren-1].children[1].textContent = output.data[JS_MIME_TYPE];\n    }\n    output_area._hv_plot_id = id;\n    if ((window.Bokeh !== undefined) && (id in Bokeh.index)) {\n      window.PyViz.plot_index[id] = Bokeh.index[id];\n    } else {\n      window.PyViz.plot_index[id] = null;\n    }\n  } else if (output.metadata[EXEC_MIME_TYPE][\"server_id\"] !== undefined) {\n    var bk_div = document.createElement(\"div\");\n    bk_div.innerHTML = output.data[HTML_MIME_TYPE];\n    var script_attrs = bk_div.children[0].attributes;\n    for (var i = 0; i < script_attrs.length; i++) {\n      toinsert[toinsert.length - 1].childNodes[1].setAttribute(script_attrs[i].name, script_attrs[i].value);\n    }\n    // store reference to server id on output_area\n    output_area._bokeh_server_id = output.metadata[EXEC_MIME_TYPE][\"server_id\"];\n  }\n}\n\n/**\n * Handle when an output is cleared or removed\n */\nfunction handle_clear_output(event, handle) {\n  var id = handle.cell.output_area._hv_plot_id;\n  var server_id = handle.cell.output_area._bokeh_server_id;\n  if (((id === undefined) || !(id in PyViz.plot_index)) && (server_id !== undefined)) { return; }\n  var comm = window.PyViz.comm_manager.get_client_comm(\"hv-extension-comm\", \"hv-extension-comm\", function () {});\n  if (server_id !== null) {\n    comm.send({event_type: 'server_delete', 'id': server_id});\n    return;\n  } else if (comm !== null) {\n    comm.send({event_type: 'delete', 'id': id});\n  }\n  delete PyViz.plot_index[id];\n  if ((window.Bokeh !== undefined) & (id in window.Bokeh.index)) {\n    var doc = window.Bokeh.index[id].model.document\n    doc.clear();\n    const i = window.Bokeh.documents.indexOf(doc);\n    if (i > -1) {\n      window.Bokeh.documents.splice(i, 1);\n    }\n  }\n}\n\n/**\n * Handle kernel restart event\n */\nfunction handle_kernel_cleanup(event, handle) {\n  delete PyViz.comms[\"hv-extension-comm\"];\n  window.PyViz.plot_index = {}\n}\n\n/**\n * Handle update_display_data messages\n */\nfunction handle_update_output(event, handle) {\n  handle_clear_output(event, {cell: {output_area: handle.output_area}})\n  handle_add_output(event, handle)\n}\n\nfunction register_renderer(events, OutputArea) {\n  function append_mime(data, metadata, element) {\n    // create a DOM node to render to\n    var toinsert = this.create_output_subarea(\n    metadata,\n    CLASS_NAME,\n    EXEC_MIME_TYPE\n    );\n    this.keyboard_manager.register_events(toinsert);\n    // Render to node\n    var props = {data: data, metadata: metadata[EXEC_MIME_TYPE]};\n    render(props, toinsert[0]);\n    element.append(toinsert);\n    return toinsert\n  }\n\n  events.on('output_added.OutputArea', handle_add_output);\n  events.on('output_updated.OutputArea', handle_update_output);\n  events.on('clear_output.CodeCell', handle_clear_output);\n  events.on('delete.Cell', handle_clear_output);\n  events.on('kernel_ready.Kernel', handle_kernel_cleanup);\n\n  OutputArea.prototype.register_mime_type(EXEC_MIME_TYPE, append_mime, {\n    safe: true,\n    index: 0\n  });\n}\n\nif (window.Jupyter !== undefined) {\n  try {\n    var events = require('base/js/events');\n    var OutputArea = require('notebook/js/outputarea').OutputArea;\n    if (OutputArea.prototype.mime_types().indexOf(EXEC_MIME_TYPE) == -1) {\n      register_renderer(events, OutputArea);\n    }\n  } catch(err) {\n  }\n}\n"
     },
     "metadata": {},
     "output_type": "display_data"
    }
   ],
   "source": [
    "from importlib import reload\n",
    "import utilities.data\n",
    "reload(utilities.data)\n",
    "\n",
    "from utilities.data import load_data, make_arrivals, make_stations, make_trips, make_num_per_hour\n",
    "from ipyleaflet import Map\n",
    "import pandas as pd\n",
    "import panel as pn\n",
    "pn.extension()"
   ]
  },
  {
   "cell_type": "code",
   "execution_count": 61,
   "id": "vital-momentum",
   "metadata": {},
   "outputs": [],
   "source": [
    "df = load_data('2020-01-01', '2020-02-27')"
   ]
  },
  {
   "cell_type": "code",
   "execution_count": 64,
   "id": "addressed-stuart",
   "metadata": {},
   "outputs": [
    {
     "data": {
      "text/plain": [
       "18313"
      ]
     },
     "execution_count": 64,
     "metadata": {},
     "output_type": "execute_result"
    }
   ],
   "source": [
    "sum(df.weekend)"
   ]
  },
  {
   "cell_type": "code",
   "execution_count": 87,
   "id": "broadband-tumor",
   "metadata": {},
   "outputs": [
    {
     "data": {},
     "metadata": {},
     "output_type": "display_data"
    },
    {
     "data": {
      "application/vnd.holoviews_exec.v0+json": "",
      "text/html": [
       "<div id='1023'>\n",
       "\n",
       "\n",
       "\n",
       "\n",
       "\n",
       "  <div class=\"bk-root\" id=\"6cf0bff1-6156-420f-b5d1-94b1f8fbdb05\" data-root-id=\"1023\"></div>\n",
       "</div>\n",
       "<script type=\"application/javascript\">(function(root) {\n",
       "  function embed_document(root) {\n",
       "    var docs_json = {\"b220d13a-9a72-4623-a3d6-1aa5c534d420\":{\"defs\":[{\"extends\":null,\"module\":null,\"name\":\"DataModel\",\"overrides\":[],\"properties\":[]}],\"roots\":{\"references\":[{\"attributes\":{\"margin\":[5,10,5,10],\"options\":[\"a\",\"b\"],\"value\":\"a\"},\"id\":\"1023\",\"type\":\"Select\"},{\"attributes\":{\"client_comm_id\":\"9f50dcc02b3d46df8660b5b2c31a15ea\",\"comm_id\":\"fc79ca425cbd4b1698af9f94d5e08934\",\"plot_id\":\"1023\"},\"id\":\"1024\",\"type\":\"panel.models.comm_manager.CommManager\"}],\"root_ids\":[\"1023\",\"1024\"]},\"title\":\"Bokeh Application\",\"version\":\"2.3.0\"}};\n",
       "    var render_items = [{\"docid\":\"b220d13a-9a72-4623-a3d6-1aa5c534d420\",\"root_ids\":[\"1023\"],\"roots\":{\"1023\":\"6cf0bff1-6156-420f-b5d1-94b1f8fbdb05\"}}];\n",
       "    root.Bokeh.embed.embed_items_notebook(docs_json, render_items);\n",
       "  }\n",
       "  if (root.Bokeh !== undefined && root.Bokeh.Panel !== undefined) {\n",
       "    embed_document(root);\n",
       "  } else {\n",
       "    var attempts = 0;\n",
       "    var timer = setInterval(function(root) {\n",
       "      if (root.Bokeh !== undefined && root.Bokeh.Panel !== undefined) {\n",
       "        clearInterval(timer);\n",
       "        embed_document(root);\n",
       "      } else if (document.readyState == \"complete\") {\n",
       "        attempts++;\n",
       "        if (attempts > 100) {\n",
       "          clearInterval(timer);\n",
       "          console.log(\"Bokeh: ERROR: Unable to run BokehJS code because BokehJS library is missing\");\n",
       "        }\n",
       "      }\n",
       "    }, 10, root)\n",
       "  }\n",
       "})(window);</script>"
      ],
      "text/plain": [
       "Select(options=['a', 'b'], value='a')"
      ]
     },
     "execution_count": 87,
     "metadata": {
      "application/vnd.holoviews_exec.v0+json": {
       "id": "1023"
      }
     },
     "output_type": "execute_result"
    }
   ],
   "source": [
    "a = pn.widgets.Select(options=['a','b'])\n",
    "a"
   ]
  },
  {
   "cell_type": "code",
   "execution_count": 91,
   "id": "arranged-campbell",
   "metadata": {},
   "outputs": [
    {
     "data": {
      "text/html": [
       "<div>\n",
       "<style scoped>\n",
       "    .dataframe tbody tr th:only-of-type {\n",
       "        vertical-align: middle;\n",
       "    }\n",
       "\n",
       "    .dataframe tbody tr th {\n",
       "        vertical-align: top;\n",
       "    }\n",
       "\n",
       "    .dataframe thead th {\n",
       "        text-align: right;\n",
       "    }\n",
       "</style>\n",
       "<table border=\"1\" class=\"dataframe\">\n",
       "  <thead>\n",
       "    <tr style=\"text-align: right;\">\n",
       "      <th></th>\n",
       "      <th></th>\n",
       "      <th>count</th>\n",
       "      <th>avg_duration</th>\n",
       "      <th>hours</th>\n",
       "      <th>minutes</th>\n",
       "      <th>seconds</th>\n",
       "    </tr>\n",
       "    <tr>\n",
       "      <th>station_station_id</th>\n",
       "      <th>end_station_id</th>\n",
       "      <th></th>\n",
       "      <th></th>\n",
       "      <th></th>\n",
       "      <th></th>\n",
       "      <th></th>\n",
       "    </tr>\n",
       "  </thead>\n",
       "  <tbody>\n",
       "    <tr>\n",
       "      <th rowspan=\"5\" valign=\"top\">3</th>\n",
       "      <th>3</th>\n",
       "      <td>15</td>\n",
       "      <td>892.0</td>\n",
       "      <td>0.0</td>\n",
       "      <td>14.0</td>\n",
       "      <td>52.0</td>\n",
       "    </tr>\n",
       "    <tr>\n",
       "      <th>5</th>\n",
       "      <td>27</td>\n",
       "      <td>449.703704</td>\n",
       "      <td>0.0</td>\n",
       "      <td>7.0</td>\n",
       "      <td>29.0</td>\n",
       "    </tr>\n",
       "    <tr>\n",
       "      <th>7</th>\n",
       "      <td>38</td>\n",
       "      <td>329.026316</td>\n",
       "      <td>0.0</td>\n",
       "      <td>5.0</td>\n",
       "      <td>29.0</td>\n",
       "    </tr>\n",
       "    <tr>\n",
       "      <th>8</th>\n",
       "      <td>0</td>\n",
       "      <td>NaN</td>\n",
       "      <td>NaN</td>\n",
       "      <td>NaN</td>\n",
       "      <td>NaN</td>\n",
       "    </tr>\n",
       "    <tr>\n",
       "      <th>22</th>\n",
       "      <td>6</td>\n",
       "      <td>492.5</td>\n",
       "      <td>0.0</td>\n",
       "      <td>8.0</td>\n",
       "      <td>12.0</td>\n",
       "    </tr>\n",
       "    <tr>\n",
       "      <th>...</th>\n",
       "      <th>...</th>\n",
       "      <td>...</td>\n",
       "      <td>...</td>\n",
       "      <td>...</td>\n",
       "      <td>...</td>\n",
       "      <td>...</td>\n",
       "    </tr>\n",
       "    <tr>\n",
       "      <th rowspan=\"5\" valign=\"top\">1816</th>\n",
       "      <th>1046</th>\n",
       "      <td>0</td>\n",
       "      <td>NaN</td>\n",
       "      <td>NaN</td>\n",
       "      <td>NaN</td>\n",
       "      <td>NaN</td>\n",
       "    </tr>\n",
       "    <tr>\n",
       "      <th>1047</th>\n",
       "      <td>0</td>\n",
       "      <td>NaN</td>\n",
       "      <td>NaN</td>\n",
       "      <td>NaN</td>\n",
       "      <td>NaN</td>\n",
       "    </tr>\n",
       "    <tr>\n",
       "      <th>1048</th>\n",
       "      <td>0</td>\n",
       "      <td>NaN</td>\n",
       "      <td>NaN</td>\n",
       "      <td>NaN</td>\n",
       "      <td>NaN</td>\n",
       "    </tr>\n",
       "    <tr>\n",
       "      <th>1049</th>\n",
       "      <td>0</td>\n",
       "      <td>NaN</td>\n",
       "      <td>NaN</td>\n",
       "      <td>NaN</td>\n",
       "      <td>NaN</td>\n",
       "    </tr>\n",
       "    <tr>\n",
       "      <th>1816</th>\n",
       "      <td>2</td>\n",
       "      <td>1152.0</td>\n",
       "      <td>0.0</td>\n",
       "      <td>19.0</td>\n",
       "      <td>12.0</td>\n",
       "    </tr>\n",
       "  </tbody>\n",
       "</table>\n",
       "<p>5929 rows × 5 columns</p>\n",
       "</div>"
      ],
      "text/plain": [
       "                                   count avg_duration  hours  minutes  seconds\n",
       "station_station_id end_station_id                                             \n",
       "3                  3                  15        892.0    0.0     14.0     52.0\n",
       "                   5                  27   449.703704    0.0      7.0     29.0\n",
       "                   7                  38   329.026316    0.0      5.0     29.0\n",
       "                   8                   0          NaN    NaN      NaN      NaN\n",
       "                   22                  6        492.5    0.0      8.0     12.0\n",
       "...                                  ...          ...    ...      ...      ...\n",
       "1816               1046                0          NaN    NaN      NaN      NaN\n",
       "                   1047                0          NaN    NaN      NaN      NaN\n",
       "                   1048                0          NaN    NaN      NaN      NaN\n",
       "                   1049                0          NaN    NaN      NaN      NaN\n",
       "                   1816                2       1152.0    0.0     19.0     12.0\n",
       "\n",
       "[5929 rows x 5 columns]"
      ]
     },
     "execution_count": 91,
     "metadata": {},
     "output_type": "execute_result"
    }
   ],
   "source": [
    "trips['weekdays']['count'] < 1"
   ]
  },
  {
   "cell_type": "code",
   "execution_count": 89,
   "id": "operating-ethernet",
   "metadata": {},
   "outputs": [
    {
     "data": {
      "text/plain": [
       "'b'"
      ]
     },
     "execution_count": 89,
     "metadata": {},
     "output_type": "execute_result"
    }
   ],
   "source": [
    "a.value"
   ]
  },
  {
   "cell_type": "code",
   "execution_count": 81,
   "id": "about-pastor",
   "metadata": {},
   "outputs": [
    {
     "data": {},
     "metadata": {},
     "output_type": "display_data"
    },
    {
     "data": {
      "application/vnd.holoviews_exec.v0+json": "",
      "text/html": [
       "<div id='1017'>\n",
       "\n",
       "\n",
       "\n",
       "\n",
       "\n",
       "  <div class=\"bk-root\" id=\"d2572cfd-7554-4127-b927-08d6082c7677\" data-root-id=\"1017\"></div>\n",
       "</div>\n",
       "<script type=\"application/javascript\">(function(root) {\n",
       "  function embed_document(root) {\n",
       "    var docs_json = {\"46d508fb-95ce-4338-8cf7-fa0f8c223cf3\":{\"defs\":[{\"extends\":null,\"module\":null,\"name\":\"DataModel\",\"overrides\":[],\"properties\":[]}],\"roots\":{\"references\":[{\"attributes\":{\"margin\":[5,10,5,10],\"options\":[\"a\",\"b\"]},\"id\":\"1017\",\"type\":\"MultiSelect\"},{\"attributes\":{\"client_comm_id\":\"71035af0d63045ddb53da088281e951f\",\"comm_id\":\"0bee4393800e4dcba345416ae7b7d54f\",\"plot_id\":\"1017\"},\"id\":\"1018\",\"type\":\"panel.models.comm_manager.CommManager\"}],\"root_ids\":[\"1017\",\"1018\"]},\"title\":\"Bokeh Application\",\"version\":\"2.3.0\"}};\n",
       "    var render_items = [{\"docid\":\"46d508fb-95ce-4338-8cf7-fa0f8c223cf3\",\"root_ids\":[\"1017\"],\"roots\":{\"1017\":\"d2572cfd-7554-4127-b927-08d6082c7677\"}}];\n",
       "    root.Bokeh.embed.embed_items_notebook(docs_json, render_items);\n",
       "  }\n",
       "  if (root.Bokeh !== undefined && root.Bokeh.Panel !== undefined) {\n",
       "    embed_document(root);\n",
       "  } else {\n",
       "    var attempts = 0;\n",
       "    var timer = setInterval(function(root) {\n",
       "      if (root.Bokeh !== undefined && root.Bokeh.Panel !== undefined) {\n",
       "        clearInterval(timer);\n",
       "        embed_document(root);\n",
       "      } else if (document.readyState == \"complete\") {\n",
       "        attempts++;\n",
       "        if (attempts > 100) {\n",
       "          clearInterval(timer);\n",
       "          console.log(\"Bokeh: ERROR: Unable to run BokehJS code because BokehJS library is missing\");\n",
       "        }\n",
       "      }\n",
       "    }, 10, root)\n",
       "  }\n",
       "})(window);</script>"
      ],
      "text/plain": [
       "MultiSelect(options=['a', 'b'])"
      ]
     },
     "execution_count": 81,
     "metadata": {
      "application/vnd.holoviews_exec.v0+json": {
       "id": "1017"
      }
     },
     "output_type": "execute_result"
    }
   ],
   "source": [
    "pn.widgets.MultiSelect(options=['a','b'])"
   ]
  },
  {
   "cell_type": "code",
   "execution_count": 82,
   "id": "agricultural-society",
   "metadata": {},
   "outputs": [
    {
     "data": {},
     "metadata": {},
     "output_type": "display_data"
    },
    {
     "data": {
      "application/vnd.holoviews_exec.v0+json": "",
      "text/html": [
       "<div id='1019'>\n",
       "\n",
       "\n",
       "\n",
       "\n",
       "\n",
       "  <div class=\"bk-root\" id=\"8ca00f0d-df20-4d4c-83b8-e02b7db7a181\" data-root-id=\"1019\"></div>\n",
       "</div>\n",
       "<script type=\"application/javascript\">(function(root) {\n",
       "  function embed_document(root) {\n",
       "    var docs_json = {\"95e0c233-eb69-471b-8083-1e781f3702d4\":{\"defs\":[{\"extends\":null,\"module\":null,\"name\":\"DataModel\",\"overrides\":[],\"properties\":[]}],\"roots\":{\"references\":[{\"attributes\":{\"icon\":null,\"label\":\"\",\"margin\":[5,10,5,10],\"subscribed_events\":[\"button_click\"]},\"id\":\"1019\",\"type\":\"Button\"},{\"attributes\":{\"client_comm_id\":\"a85488fb96234d7899669742815a20e2\",\"comm_id\":\"c08d2483759f4ea49e41fa662167c631\",\"plot_id\":\"1019\"},\"id\":\"1020\",\"type\":\"panel.models.comm_manager.CommManager\"}],\"root_ids\":[\"1019\",\"1020\"]},\"title\":\"Bokeh Application\",\"version\":\"2.3.0\"}};\n",
       "    var render_items = [{\"docid\":\"95e0c233-eb69-471b-8083-1e781f3702d4\",\"root_ids\":[\"1019\"],\"roots\":{\"1019\":\"8ca00f0d-df20-4d4c-83b8-e02b7db7a181\"}}];\n",
       "    root.Bokeh.embed.embed_items_notebook(docs_json, render_items);\n",
       "  }\n",
       "  if (root.Bokeh !== undefined && root.Bokeh.Panel !== undefined) {\n",
       "    embed_document(root);\n",
       "  } else {\n",
       "    var attempts = 0;\n",
       "    var timer = setInterval(function(root) {\n",
       "      if (root.Bokeh !== undefined && root.Bokeh.Panel !== undefined) {\n",
       "        clearInterval(timer);\n",
       "        embed_document(root);\n",
       "      } else if (document.readyState == \"complete\") {\n",
       "        attempts++;\n",
       "        if (attempts > 100) {\n",
       "          clearInterval(timer);\n",
       "          console.log(\"Bokeh: ERROR: Unable to run BokehJS code because BokehJS library is missing\");\n",
       "        }\n",
       "      }\n",
       "    }, 10, root)\n",
       "  }\n",
       "})(window);</script>"
      ],
      "text/plain": [
       "Button()"
      ]
     },
     "execution_count": 82,
     "metadata": {
      "application/vnd.holoviews_exec.v0+json": {
       "id": "1019"
      }
     },
     "output_type": "execute_result"
    }
   ],
   "source": [
    "a = pn.widgets.Button()\n",
    "a"
   ]
  },
  {
   "cell_type": "code",
   "execution_count": 84,
   "id": "continent-category",
   "metadata": {},
   "outputs": [
    {
     "data": {
      "text/plain": [
       "False"
      ]
     },
     "execution_count": 84,
     "metadata": {},
     "output_type": "execute_result"
    }
   ],
   "source": [
    "a.value"
   ]
  },
  {
   "cell_type": "code",
   "execution_count": 3,
   "id": "virtual-marketing",
   "metadata": {},
   "outputs": [],
   "source": [
    "trips = make_trips(df)"
   ]
  },
  {
   "cell_type": "code",
   "execution_count": 77,
   "id": "sapphire-richmond",
   "metadata": {},
   "outputs": [],
   "source": [
    "my_dict = make_num_per_hour(df)"
   ]
  },
  {
   "cell_type": "code",
   "execution_count": 47,
   "id": "infrared-fifteen",
   "metadata": {},
   "outputs": [
    {
     "data": {
      "image/png": "[encoded data removed]",
      "text/plain": [
       "<Figure size 432x288 with 1 Axes>"
      ]
     },
     "metadata": {
      "needs_background": "light"
     },
     "output_type": "display_data"
    }
   ],
   "source": [
    "negative_data = num_trips_per_hour.loc[49]\n",
    "positive_data = num_arrivals_per_hour.loc[49]\n",
    "\n",
    "fig = plt.figure()\n",
    "ax = plt.subplot(111)\n",
    "ax.bar(range(start_hour,23+1), positive_data, width=0.8, color='tab:blue')\n",
    "ax.bar(range(start_hour,23+1), -negative_data, width=0.8, color='tab:red')\n",
    "ax.plot(range(start_hour,23+1), positive_data-negative_data, color='black')\n",
    "ax.set_xlim(start_hour-.5,23+.5)\n",
    "ax.set_xticks(range(start_hour,23+1));"
   ]
  },
  {
   "cell_type": "code",
   "execution_count": 24,
   "id": "focal-cooler",
   "metadata": {},
   "outputs": [],
   "source": [
    "import matplotlib.pyplot as plt"
   ]
  },
  {
   "cell_type": "code",
   "execution_count": 23,
   "id": "unable-comfort",
   "metadata": {},
   "outputs": [
    {
     "name": "stdout",
     "output_type": "stream",
     "text": [
      "365\n",
      "365\n"
     ]
    }
   ],
   "source": [
    "num_trips_per_hour = make_num_per_hour(df, trips=True,start_hour=start_hour)\n",
    "num_arrivals_per_hour = make_num_per_hour(df, trips=False, start_hour=start_hour)"
   ]
  },
  {
   "cell_type": "code",
   "execution_count": 5,
   "id": "considerable-tradition",
   "metadata": {},
   "outputs": [],
   "source": [
    "start_hour=4"
   ]
  },
  {
   "cell_type": "code",
   "execution_count": 18,
   "id": "early-sociology",
   "metadata": {},
   "outputs": [
    {
     "data": {
      "text/plain": [
       "364"
      ]
     },
     "execution_count": 18,
     "metadata": {},
     "output_type": "execute_result"
    }
   ],
   "source": [
    "a.days"
   ]
  },
  {
   "cell_type": "code",
   "execution_count": null,
   "id": "massive-diving",
   "metadata": {},
   "outputs": [],
   "source": []
  },
  {
   "cell_type": "code",
   "execution_count": 126,
   "id": "parental-average",
   "metadata": {},
   "outputs": [
    {
     "data": {
      "text/plain": [
       "Watcher(inst=Button(name='reset'), cls=<class 'panel.widgets.button.Button'>, fn=<function Reactive.link.<locals>.link at 0x000001E9E82929D8>, mode='args', onlychanged=True, parameter_names=('value',), what='value', queued=False)"
      ]
     },
     "execution_count": 126,
     "metadata": {},
     "output_type": "execute_result"
    }
   ],
   "source": [
    "def initalize_map():\n",
    "    m = Map(center=[60.4,5.3], zoom=13)\n",
    "    return pn.pane.ipywidget.IPyLeaflet(m) \n",
    "pane = initalize_map()\n",
    "\n",
    "\n",
    "button = pn.widgets.Button(name='reset')\n",
    "def callback(pane, event): # event er class i params, vet ikke om det\n",
    "    pane.object = initalize_map()\n",
    "button.link(pane, callbacks={'value': callback})"
   ]
  },
  {
   "cell_type": "code",
   "execution_count": null,
   "id": "built-holocaust",
   "metadata": {},
   "outputs": [],
   "source": [
    "button.on_click()"
   ]
  },
  {
   "cell_type": "code",
   "execution_count": 127,
   "id": "interior-terry",
   "metadata": {},
   "outputs": [
    {
     "data": {
      "text/html": [
       "\n",
       "<pre>Traceback (most recent call last):\n",
       "  File &quot;C:\\Users\\dessv\\AppData\\Local\\Continuum\\anaconda3\\envs\\test_siste1\\lib\\site-packages\\pyviz_comms\\__init__.py&quot;, line 325, in _handle_msg\n",
       "    self._on_msg(msg)\n",
       "  File &quot;C:\\Users\\dessv\\AppData\\Local\\Continuum\\anaconda3\\envs\\test_siste1\\lib\\site-packages\\panel\\viewable.py&quot;, line 260, in _on_msg\n",
       "    patch.apply_to_document(doc, comm.id)\n",
       "  File &quot;C:\\Users\\dessv\\AppData\\Local\\Continuum\\anaconda3\\envs\\test_siste1\\lib\\site-packages\\bokeh\\protocol\\messages\\patch_doc.py&quot;, line 100, in apply_to_document\n",
       "    doc._with_self_as_curdoc(lambda: doc.apply_json_patch(self.content, setter))\n",
       "  File &quot;C:\\Users\\dessv\\AppData\\Local\\Continuum\\anaconda3\\envs\\test_siste1\\lib\\site-packages\\bokeh\\document\\document.py&quot;, line 1198, in _with_self_as_curdoc\n",
       "    return f()\n",
       "  File &quot;C:\\Users\\dessv\\AppData\\Local\\Continuum\\anaconda3\\envs\\test_siste1\\lib\\site-packages\\bokeh\\protocol\\messages\\patch_doc.py&quot;, line 100, in &lt;lambda&gt;\n",
       "    doc._with_self_as_curdoc(lambda: doc.apply_json_patch(self.content, setter))\n",
       "  File &quot;C:\\Users\\dessv\\AppData\\Local\\Continuum\\anaconda3\\envs\\test_siste1\\lib\\site-packages\\bokeh\\document\\document.py&quot;, line 398, in apply_json_patch\n",
       "    self._trigger_on_message(event_json[&quot;msg_type&quot;], event_json[&quot;msg_data&quot;])\n",
       "  File &quot;C:\\Users\\dessv\\AppData\\Local\\Continuum\\anaconda3\\envs\\test_siste1\\lib\\site-packages\\bokeh\\document\\document.py&quot;, line 687, in _trigger_on_message\n",
       "    cb(msg_data)\n",
       "  File &quot;C:\\Users\\dessv\\AppData\\Local\\Continuum\\anaconda3\\envs\\test_siste1\\lib\\site-packages\\bokeh\\document\\document.py&quot;, line 356, in apply_json_event\n",
       "    model._trigger_event(event)\n",
       "  File &quot;C:\\Users\\dessv\\AppData\\Local\\Continuum\\anaconda3\\envs\\test_siste1\\lib\\site-packages\\bokeh\\util\\callback_manager.py&quot;, line 91, in _trigger_event\n",
       "    self._document._with_self_as_curdoc(invoke)\n",
       "  File &quot;C:\\Users\\dessv\\AppData\\Local\\Continuum\\anaconda3\\envs\\test_siste1\\lib\\site-packages\\bokeh\\document\\document.py&quot;, line 1198, in _with_self_as_curdoc\n",
       "    return f()\n",
       "  File &quot;C:\\Users\\dessv\\AppData\\Local\\Continuum\\anaconda3\\envs\\test_siste1\\lib\\site-packages\\bokeh\\util\\callback_manager.py&quot;, line 80, in invoke\n",
       "    callback(event)\n",
       "  File &quot;C:\\Users\\dessv\\AppData\\Local\\Continuum\\anaconda3\\envs\\test_siste1\\lib\\site-packages\\panel\\widgets\\button.py&quot;, line 112, in _server_click\n",
       "    self.param.trigger(&#x27;value&#x27;)\n",
       "  File &quot;C:\\Users\\dessv\\AppData\\Local\\Continuum\\anaconda3\\envs\\test_siste1\\lib\\site-packages\\param\\parameterized.py&quot;, line 1541, in trigger\n",
       "    self_.set_param(**dict(params, **triggers))\n",
       "  File &quot;C:\\Users\\dessv\\AppData\\Local\\Continuum\\anaconda3\\envs\\test_siste1\\lib\\site-packages\\param\\parameterized.py&quot;, line 1472, in set_param\n",
       "    self_._batch_call_watchers()\n",
       "  File &quot;C:\\Users\\dessv\\AppData\\Local\\Continuum\\anaconda3\\envs\\test_siste1\\lib\\site-packages\\param\\parameterized.py&quot;, line 1611, in _batch_call_watchers\n",
       "    self_._execute_watcher(watcher, events)\n",
       "  File &quot;C:\\Users\\dessv\\AppData\\Local\\Continuum\\anaconda3\\envs\\test_siste1\\lib\\site-packages\\param\\parameterized.py&quot;, line 1573, in _execute_watcher\n",
       "    watcher.fn(*args, **kwargs)\n",
       "  File &quot;C:\\Users\\dessv\\AppData\\Local\\Continuum\\anaconda3\\envs\\test_siste1\\lib\\site-packages\\panel\\reactive.py&quot;, line 376, in link\n",
       "    callbacks[event.name](target, event)\n",
       "  File &quot;&lt;ipython-input-126-2553857b1300&gt;&quot;, line 9, in callback\n",
       "    pane.object = initalize_map()\n",
       "  File &quot;C:\\Users\\dessv\\AppData\\Local\\Continuum\\anaconda3\\envs\\test_siste1\\lib\\site-packages\\param\\parameterized.py&quot;, line 316, in _f\n",
       "    instance_param.__set__(obj, val)\n",
       "  File &quot;C:\\Users\\dessv\\AppData\\Local\\Continuum\\anaconda3\\envs\\test_siste1\\lib\\site-packages\\param\\parameterized.py&quot;, line 318, in _f\n",
       "    return f(self, obj, val)\n",
       "  File &quot;C:\\Users\\dessv\\AppData\\Local\\Continuum\\anaconda3\\envs\\test_siste1\\lib\\site-packages\\param\\parameterized.py&quot;, line 936, in __set__\n",
       "    obj.param._call_watcher(watcher, event)\n",
       "  File &quot;C:\\Users\\dessv\\AppData\\Local\\Continuum\\anaconda3\\envs\\test_siste1\\lib\\site-packages\\param\\parameterized.py&quot;, line 1591, in _call_watcher\n",
       "    self_._execute_watcher(watcher, (event,))\n",
       "  File &quot;C:\\Users\\dessv\\AppData\\Local\\Continuum\\anaconda3\\envs\\test_siste1\\lib\\site-packages\\param\\parameterized.py&quot;, line 1573, in _execute_watcher\n",
       "    watcher.fn(*args, **kwargs)\n",
       "  File &quot;C:\\Users\\dessv\\AppData\\Local\\Continuum\\anaconda3\\envs\\test_siste1\\lib\\site-packages\\panel\\pane\\base.py&quot;, line 185, in _update_pane\n",
       "    self._update_object(ref, doc, root, parent, comm)\n",
       "  File &quot;C:\\Users\\dessv\\AppData\\Local\\Continuum\\anaconda3\\envs\\test_siste1\\lib\\site-packages\\panel\\pane\\base.py&quot;, line 152, in _update_object\n",
       "    new_model = self._get_model(doc, root, parent, comm)\n",
       "  File &quot;C:\\Users\\dessv\\AppData\\Local\\Continuum\\anaconda3\\envs\\test_siste1\\lib\\site-packages\\panel\\pane\\ipywidget.py&quot;, line 38, in _get_model\n",
       "    model = self._get_ipywidget(self.object, doc, root, comm, **kwargs)\n",
       "  File &quot;C:\\Users\\dessv\\AppData\\Local\\Continuum\\anaconda3\\envs\\test_siste1\\lib\\site-packages\\panel\\pane\\ipywidget.py&quot;, line 31, in _get_ipywidget\n",
       "    model = IPyWidget(widget=obj, **kwargs)\n",
       "  File &quot;C:\\Users\\dessv\\AppData\\Local\\Continuum\\anaconda3\\envs\\test_siste1\\lib\\site-packages\\panel\\models\\ipywidget.py&quot;, line 12, in __init__\n",
       "    spec = widget.get_view_spec()\n",
       "AttributeError: &#x27;IPyLeaflet&#x27; object has no attribute &#x27;get_view_spec&#x27;\n",
       "</pre>\n",
       "\n",
       "\n",
       "<pre>Traceback (most recent call last):\n",
       "  File &quot;C:\\Users\\dessv\\AppData\\Local\\Continuum\\anaconda3\\envs\\test_siste1\\lib\\site-packages\\pyviz_comms\\__init__.py&quot;, line 325, in _handle_msg\n",
       "    self._on_msg(msg)\n",
       "  File &quot;C:\\Users\\dessv\\AppData\\Local\\Continuum\\anaconda3\\envs\\test_siste1\\lib\\site-packages\\panel\\viewable.py&quot;, line 260, in _on_msg\n",
       "    patch.apply_to_document(doc, comm.id)\n",
       "  File &quot;C:\\Users\\dessv\\AppData\\Local\\Continuum\\anaconda3\\envs\\test_siste1\\lib\\site-packages\\bokeh\\protocol\\messages\\patch_doc.py&quot;, line 100, in apply_to_document\n",
       "    doc._with_self_as_curdoc(lambda: doc.apply_json_patch(self.content, setter))\n",
       "  File &quot;C:\\Users\\dessv\\AppData\\Local\\Continuum\\anaconda3\\envs\\test_siste1\\lib\\site-packages\\bokeh\\document\\document.py&quot;, line 1198, in _with_self_as_curdoc\n",
       "    return f()\n",
       "  File &quot;C:\\Users\\dessv\\AppData\\Local\\Continuum\\anaconda3\\envs\\test_siste1\\lib\\site-packages\\bokeh\\protocol\\messages\\patch_doc.py&quot;, line 100, in &lt;lambda&gt;\n",
       "    doc._with_self_as_curdoc(lambda: doc.apply_json_patch(self.content, setter))\n",
       "  File &quot;C:\\Users\\dessv\\AppData\\Local\\Continuum\\anaconda3\\envs\\test_siste1\\lib\\site-packages\\bokeh\\document\\document.py&quot;, line 398, in apply_json_patch\n",
       "    self._trigger_on_message(event_json[&quot;msg_type&quot;], event_json[&quot;msg_data&quot;])\n",
       "  File &quot;C:\\Users\\dessv\\AppData\\Local\\Continuum\\anaconda3\\envs\\test_siste1\\lib\\site-packages\\bokeh\\document\\document.py&quot;, line 687, in _trigger_on_message\n",
       "    cb(msg_data)\n",
       "  File &quot;C:\\Users\\dessv\\AppData\\Local\\Continuum\\anaconda3\\envs\\test_siste1\\lib\\site-packages\\bokeh\\document\\document.py&quot;, line 356, in apply_json_event\n",
       "    model._trigger_event(event)\n",
       "  File &quot;C:\\Users\\dessv\\AppData\\Local\\Continuum\\anaconda3\\envs\\test_siste1\\lib\\site-packages\\bokeh\\util\\callback_manager.py&quot;, line 91, in _trigger_event\n",
       "    self._document._with_self_as_curdoc(invoke)\n",
       "  File &quot;C:\\Users\\dessv\\AppData\\Local\\Continuum\\anaconda3\\envs\\test_siste1\\lib\\site-packages\\bokeh\\document\\document.py&quot;, line 1198, in _with_self_as_curdoc\n",
       "    return f()\n",
       "  File &quot;C:\\Users\\dessv\\AppData\\Local\\Continuum\\anaconda3\\envs\\test_siste1\\lib\\site-packages\\bokeh\\util\\callback_manager.py&quot;, line 80, in invoke\n",
       "    callback(event)\n",
       "  File &quot;C:\\Users\\dessv\\AppData\\Local\\Continuum\\anaconda3\\envs\\test_siste1\\lib\\site-packages\\panel\\widgets\\button.py&quot;, line 112, in _server_click\n",
       "    self.param.trigger(&#x27;value&#x27;)\n",
       "  File &quot;C:\\Users\\dessv\\AppData\\Local\\Continuum\\anaconda3\\envs\\test_siste1\\lib\\site-packages\\param\\parameterized.py&quot;, line 1541, in trigger\n",
       "    self_.set_param(**dict(params, **triggers))\n",
       "  File &quot;C:\\Users\\dessv\\AppData\\Local\\Continuum\\anaconda3\\envs\\test_siste1\\lib\\site-packages\\param\\parameterized.py&quot;, line 1472, in set_param\n",
       "    self_._batch_call_watchers()\n",
       "  File &quot;C:\\Users\\dessv\\AppData\\Local\\Continuum\\anaconda3\\envs\\test_siste1\\lib\\site-packages\\param\\parameterized.py&quot;, line 1611, in _batch_call_watchers\n",
       "    self_._execute_watcher(watcher, events)\n",
       "  File &quot;C:\\Users\\dessv\\AppData\\Local\\Continuum\\anaconda3\\envs\\test_siste1\\lib\\site-packages\\param\\parameterized.py&quot;, line 1573, in _execute_watcher\n",
       "    watcher.fn(*args, **kwargs)\n",
       "  File &quot;C:\\Users\\dessv\\AppData\\Local\\Continuum\\anaconda3\\envs\\test_siste1\\lib\\site-packages\\panel\\reactive.py&quot;, line 376, in link\n",
       "    callbacks[event.name](target, event)\n",
       "  File &quot;&lt;ipython-input-126-2553857b1300&gt;&quot;, line 9, in callback\n",
       "    pane.object = initalize_map()\n",
       "  File &quot;C:\\Users\\dessv\\AppData\\Local\\Continuum\\anaconda3\\envs\\test_siste1\\lib\\site-packages\\param\\parameterized.py&quot;, line 316, in _f\n",
       "    instance_param.__set__(obj, val)\n",
       "  File &quot;C:\\Users\\dessv\\AppData\\Local\\Continuum\\anaconda3\\envs\\test_siste1\\lib\\site-packages\\param\\parameterized.py&quot;, line 318, in _f\n",
       "    return f(self, obj, val)\n",
       "  File &quot;C:\\Users\\dessv\\AppData\\Local\\Continuum\\anaconda3\\envs\\test_siste1\\lib\\site-packages\\param\\parameterized.py&quot;, line 936, in __set__\n",
       "    obj.param._call_watcher(watcher, event)\n",
       "  File &quot;C:\\Users\\dessv\\AppData\\Local\\Continuum\\anaconda3\\envs\\test_siste1\\lib\\site-packages\\param\\parameterized.py&quot;, line 1591, in _call_watcher\n",
       "    self_._execute_watcher(watcher, (event,))\n",
       "  File &quot;C:\\Users\\dessv\\AppData\\Local\\Continuum\\anaconda3\\envs\\test_siste1\\lib\\site-packages\\param\\parameterized.py&quot;, line 1573, in _execute_watcher\n",
       "    watcher.fn(*args, **kwargs)\n",
       "  File &quot;C:\\Users\\dessv\\AppData\\Local\\Continuum\\anaconda3\\envs\\test_siste1\\lib\\site-packages\\panel\\pane\\base.py&quot;, line 185, in _update_pane\n",
       "    self._update_object(ref, doc, root, parent, comm)\n",
       "  File &quot;C:\\Users\\dessv\\AppData\\Local\\Continuum\\anaconda3\\envs\\test_siste1\\lib\\site-packages\\panel\\pane\\base.py&quot;, line 152, in _update_object\n",
       "    new_model = self._get_model(doc, root, parent, comm)\n",
       "  File &quot;C:\\Users\\dessv\\AppData\\Local\\Continuum\\anaconda3\\envs\\test_siste1\\lib\\site-packages\\panel\\pane\\ipywidget.py&quot;, line 38, in _get_model\n",
       "    model = self._get_ipywidget(self.object, doc, root, comm, **kwargs)\n",
       "  File &quot;C:\\Users\\dessv\\AppData\\Local\\Continuum\\anaconda3\\envs\\test_siste1\\lib\\site-packages\\panel\\pane\\ipywidget.py&quot;, line 31, in _get_ipywidget\n",
       "    model = IPyWidget(widget=obj, **kwargs)\n",
       "  File &quot;C:\\Users\\dessv\\AppData\\Local\\Continuum\\anaconda3\\envs\\test_siste1\\lib\\site-packages\\panel\\models\\ipywidget.py&quot;, line 12, in __init__\n",
       "    spec = widget.get_view_spec()\n",
       "AttributeError: &#x27;IPyLeaflet&#x27; object has no attribute &#x27;get_view_spec&#x27;\n",
       "</pre>\n",
       "\n",
       "\n",
       "<pre>Traceback (most recent call last):\n",
       "  File &quot;C:\\Users\\dessv\\AppData\\Local\\Continuum\\anaconda3\\envs\\test_siste1\\lib\\site-packages\\pyviz_comms\\__init__.py&quot;, line 325, in _handle_msg\n",
       "    self._on_msg(msg)\n",
       "  File &quot;C:\\Users\\dessv\\AppData\\Local\\Continuum\\anaconda3\\envs\\test_siste1\\lib\\site-packages\\panel\\viewable.py&quot;, line 260, in _on_msg\n",
       "    patch.apply_to_document(doc, comm.id)\n",
       "  File &quot;C:\\Users\\dessv\\AppData\\Local\\Continuum\\anaconda3\\envs\\test_siste1\\lib\\site-packages\\bokeh\\protocol\\messages\\patch_doc.py&quot;, line 100, in apply_to_document\n",
       "    doc._with_self_as_curdoc(lambda: doc.apply_json_patch(self.content, setter))\n",
       "  File &quot;C:\\Users\\dessv\\AppData\\Local\\Continuum\\anaconda3\\envs\\test_siste1\\lib\\site-packages\\bokeh\\document\\document.py&quot;, line 1198, in _with_self_as_curdoc\n",
       "    return f()\n",
       "  File &quot;C:\\Users\\dessv\\AppData\\Local\\Continuum\\anaconda3\\envs\\test_siste1\\lib\\site-packages\\bokeh\\protocol\\messages\\patch_doc.py&quot;, line 100, in &lt;lambda&gt;\n",
       "    doc._with_self_as_curdoc(lambda: doc.apply_json_patch(self.content, setter))\n",
       "  File &quot;C:\\Users\\dessv\\AppData\\Local\\Continuum\\anaconda3\\envs\\test_siste1\\lib\\site-packages\\bokeh\\document\\document.py&quot;, line 398, in apply_json_patch\n",
       "    self._trigger_on_message(event_json[&quot;msg_type&quot;], event_json[&quot;msg_data&quot;])\n",
       "  File &quot;C:\\Users\\dessv\\AppData\\Local\\Continuum\\anaconda3\\envs\\test_siste1\\lib\\site-packages\\bokeh\\document\\document.py&quot;, line 687, in _trigger_on_message\n",
       "    cb(msg_data)\n",
       "  File &quot;C:\\Users\\dessv\\AppData\\Local\\Continuum\\anaconda3\\envs\\test_siste1\\lib\\site-packages\\bokeh\\document\\document.py&quot;, line 356, in apply_json_event\n",
       "    model._trigger_event(event)\n",
       "  File &quot;C:\\Users\\dessv\\AppData\\Local\\Continuum\\anaconda3\\envs\\test_siste1\\lib\\site-packages\\bokeh\\util\\callback_manager.py&quot;, line 91, in _trigger_event\n",
       "    self._document._with_self_as_curdoc(invoke)\n",
       "  File &quot;C:\\Users\\dessv\\AppData\\Local\\Continuum\\anaconda3\\envs\\test_siste1\\lib\\site-packages\\bokeh\\document\\document.py&quot;, line 1198, in _with_self_as_curdoc\n",
       "    return f()\n",
       "  File &quot;C:\\Users\\dessv\\AppData\\Local\\Continuum\\anaconda3\\envs\\test_siste1\\lib\\site-packages\\bokeh\\util\\callback_manager.py&quot;, line 80, in invoke\n",
       "    callback(event)\n",
       "  File &quot;C:\\Users\\dessv\\AppData\\Local\\Continuum\\anaconda3\\envs\\test_siste1\\lib\\site-packages\\panel\\widgets\\button.py&quot;, line 112, in _server_click\n",
       "    self.param.trigger(&#x27;value&#x27;)\n",
       "  File &quot;C:\\Users\\dessv\\AppData\\Local\\Continuum\\anaconda3\\envs\\test_siste1\\lib\\site-packages\\param\\parameterized.py&quot;, line 1541, in trigger\n",
       "    self_.set_param(**dict(params, **triggers))\n",
       "  File &quot;C:\\Users\\dessv\\AppData\\Local\\Continuum\\anaconda3\\envs\\test_siste1\\lib\\site-packages\\param\\parameterized.py&quot;, line 1472, in set_param\n",
       "    self_._batch_call_watchers()\n",
       "  File &quot;C:\\Users\\dessv\\AppData\\Local\\Continuum\\anaconda3\\envs\\test_siste1\\lib\\site-packages\\param\\parameterized.py&quot;, line 1611, in _batch_call_watchers\n",
       "    self_._execute_watcher(watcher, events)\n",
       "  File &quot;C:\\Users\\dessv\\AppData\\Local\\Continuum\\anaconda3\\envs\\test_siste1\\lib\\site-packages\\param\\parameterized.py&quot;, line 1573, in _execute_watcher\n",
       "    watcher.fn(*args, **kwargs)\n",
       "  File &quot;C:\\Users\\dessv\\AppData\\Local\\Continuum\\anaconda3\\envs\\test_siste1\\lib\\site-packages\\panel\\reactive.py&quot;, line 376, in link\n",
       "    callbacks[event.name](target, event)\n",
       "  File &quot;&lt;ipython-input-126-2553857b1300&gt;&quot;, line 9, in callback\n",
       "    pane.object = initalize_map()\n",
       "  File &quot;C:\\Users\\dessv\\AppData\\Local\\Continuum\\anaconda3\\envs\\test_siste1\\lib\\site-packages\\param\\parameterized.py&quot;, line 316, in _f\n",
       "    instance_param.__set__(obj, val)\n",
       "  File &quot;C:\\Users\\dessv\\AppData\\Local\\Continuum\\anaconda3\\envs\\test_siste1\\lib\\site-packages\\param\\parameterized.py&quot;, line 318, in _f\n",
       "    return f(self, obj, val)\n",
       "  File &quot;C:\\Users\\dessv\\AppData\\Local\\Continuum\\anaconda3\\envs\\test_siste1\\lib\\site-packages\\param\\parameterized.py&quot;, line 936, in __set__\n",
       "    obj.param._call_watcher(watcher, event)\n",
       "  File &quot;C:\\Users\\dessv\\AppData\\Local\\Continuum\\anaconda3\\envs\\test_siste1\\lib\\site-packages\\param\\parameterized.py&quot;, line 1591, in _call_watcher\n",
       "    self_._execute_watcher(watcher, (event,))\n",
       "  File &quot;C:\\Users\\dessv\\AppData\\Local\\Continuum\\anaconda3\\envs\\test_siste1\\lib\\site-packages\\param\\parameterized.py&quot;, line 1573, in _execute_watcher\n",
       "    watcher.fn(*args, **kwargs)\n",
       "  File &quot;C:\\Users\\dessv\\AppData\\Local\\Continuum\\anaconda3\\envs\\test_siste1\\lib\\site-packages\\panel\\pane\\base.py&quot;, line 185, in _update_pane\n",
       "    self._update_object(ref, doc, root, parent, comm)\n",
       "  File &quot;C:\\Users\\dessv\\AppData\\Local\\Continuum\\anaconda3\\envs\\test_siste1\\lib\\site-packages\\panel\\pane\\base.py&quot;, line 152, in _update_object\n",
       "    new_model = self._get_model(doc, root, parent, comm)\n",
       "  File &quot;C:\\Users\\dessv\\AppData\\Local\\Continuum\\anaconda3\\envs\\test_siste1\\lib\\site-packages\\panel\\pane\\ipywidget.py&quot;, line 38, in _get_model\n",
       "    model = self._get_ipywidget(self.object, doc, root, comm, **kwargs)\n",
       "  File &quot;C:\\Users\\dessv\\AppData\\Local\\Continuum\\anaconda3\\envs\\test_siste1\\lib\\site-packages\\panel\\pane\\ipywidget.py&quot;, line 31, in _get_ipywidget\n",
       "    model = IPyWidget(widget=obj, **kwargs)\n",
       "  File &quot;C:\\Users\\dessv\\AppData\\Local\\Continuum\\anaconda3\\envs\\test_siste1\\lib\\site-packages\\panel\\models\\ipywidget.py&quot;, line 12, in __init__\n",
       "    spec = widget.get_view_spec()\n",
       "AttributeError: &#x27;IPyLeaflet&#x27; object has no attribute &#x27;get_view_spec&#x27;\n",
       "</pre>\n"
      ]
     },
     "metadata": {},
     "output_type": "display_data"
    },
    {
     "data": {
      "application/vnd.holoviews_exec.v0+json": "",
      "text/html": [
       "<div id='1092'>\n",
       "\n",
       "\n",
       "\n",
       "\n",
       "\n",
       "  <div class=\"bk-root\" id=\"0e488853-7bdc-475c-a88e-e6104f7763cc\" data-root-id=\"1092\"></div>\n",
       "</div>\n",
       "<script type=\"application/javascript\">(function(root) {\n",
       "  function embed_document(root) {\n",
       "    var docs_json = {\"889a03ff-54f4-49b4-aae4-30337fc906e1\":{\"defs\":[{\"extends\":null,\"module\":null,\"name\":\"DataModel\",\"overrides\":[],\"properties\":[]}],\"roots\":{\"references\":[{\"attributes\":{\"client_comm_id\":\"3039ee65529448dbb7b30be0766a550a\",\"comm_id\":\"65556b49171e4a28a8136cfe2561fc90\",\"plot_id\":\"1092\"},\"id\":\"1095\",\"type\":\"panel.models.comm_manager.CommManager\"},{\"attributes\":{\"bundle\":{\"spec\":{\"model_id\":\"d134c544e42f4c039266c196989551f5\",\"version_major\":2,\"version_minor\":0},\"state\":{\"state\":{\"1aaf5fd7102540fda440f52e65040c77\":{\"model_module\":\"@jupyter-widgets/base\",\"model_module_version\":\"1.2.0\",\"model_name\":\"LayoutModel\",\"state\":{}},\"3067cdcbee524194b66d447476efed27\":{\"model_module\":\"jupyter-leaflet\",\"model_module_version\":\"^0.13.5\",\"model_name\":\"LeafletMapStyleModel\",\"state\":{}},\"70d9637e8fca44cda456172eac6842bf\":{\"model_module\":\"jupyter-leaflet\",\"model_module_version\":\"^0.13.5\",\"model_name\":\"LeafletAttributionControlModel\",\"state\":{\"options\":[\"position\",\"prefix\"],\"position\":\"bottomright\"}},\"868adac3605348fea94f0e315a1ff855\":{\"model_module\":\"jupyter-leaflet\",\"model_module_version\":\"^0.13.5\",\"model_name\":\"LeafletMapStyleModel\",\"state\":{\"cursor\":\"move\"}},\"871760ec7df44cc0aa5a6427a53e8cc1\":{\"model_module\":\"jupyter-leaflet\",\"model_module_version\":\"^0.13.5\",\"model_name\":\"LeafletTileLayerModel\",\"state\":{\"base\":true,\"max_zoom\":19,\"min_zoom\":1,\"options\":[\"attribution\",\"detect_retina\",\"max_native_zoom\",\"max_zoom\",\"min_native_zoom\",\"min_zoom\",\"no_wrap\",\"tile_size\",\"tms\"]}},\"9533a1f565794144baad4db73f4a8907\":{\"model_module\":\"jupyter-leaflet\",\"model_module_version\":\"^0.13.5\",\"model_name\":\"LeafletMapStyleModel\",\"state\":{}},\"d134c544e42f4c039266c196989551f5\":{\"model_module\":\"jupyter-leaflet\",\"model_module_version\":\"^0.13.5\",\"model_name\":\"LeafletMapModel\",\"state\":{\"_dom_classes\":[],\"center\":[60.4,5.3],\"controls\":[\"IPY_MODEL_e3f40b771462480bb7bca554b2765a61\",\"IPY_MODEL_70d9637e8fca44cda456172eac6842bf\"],\"crs\":{\"custom\":false,\"name\":\"EPSG3857\"},\"default_style\":\"IPY_MODEL_9533a1f565794144baad4db73f4a8907\",\"dragging_style\":\"IPY_MODEL_868adac3605348fea94f0e315a1ff855\",\"layers\":[\"IPY_MODEL_871760ec7df44cc0aa5a6427a53e8cc1\"],\"layout\":\"IPY_MODEL_1aaf5fd7102540fda440f52e65040c77\",\"options\":[\"bounce_at_zoom_limits\",\"box_zoom\",\"center\",\"close_popup_on_click\",\"double_click_zoom\",\"dragging\",\"fullscreen\",\"inertia\",\"inertia_deceleration\",\"inertia_max_speed\",\"interpolation\",\"keyboard\",\"keyboard_pan_offset\",\"keyboard_zoom_offset\",\"max_zoom\",\"min_zoom\",\"scroll_wheel_zoom\",\"tap\",\"tap_tolerance\",\"touch_zoom\",\"world_copy_jump\",\"zoom\",\"zoom_animation_threshold\",\"zoom_delta\",\"zoom_snap\",\"zoom_start\"],\"style\":\"IPY_MODEL_3067cdcbee524194b66d447476efed27\",\"zoom\":13.0}},\"e3f40b771462480bb7bca554b2765a61\":{\"model_module\":\"jupyter-leaflet\",\"model_module_version\":\"^0.13.5\",\"model_name\":\"LeafletZoomControlModel\",\"state\":{\"options\":[\"position\",\"zoom_in_text\",\"zoom_in_title\",\"zoom_out_text\",\"zoom_out_title\"]}}},\"version_major\":2,\"version_minor\":0}},\"margin\":[5,5,5,5],\"sizing_mode\":\"stretch_width\"},\"id\":\"1094\",\"type\":\"panel.models.ipywidget.IPyWidget\"},{\"attributes\":{\"children\":[{\"id\":\"1093\"},{\"id\":\"1094\"}],\"margin\":[0,0,0,0],\"name\":\"Column00241\"},\"id\":\"1092\",\"type\":\"Column\"},{\"attributes\":{\"icon\":null,\"label\":\"reset\",\"margin\":[5,10,5,10],\"subscribed_events\":[\"button_click\"]},\"id\":\"1093\",\"type\":\"Button\"}],\"root_ids\":[\"1092\",\"1095\"]},\"title\":\"Bokeh Application\",\"version\":\"2.3.0\"}};\n",
       "    var render_items = [{\"docid\":\"889a03ff-54f4-49b4-aae4-30337fc906e1\",\"root_ids\":[\"1092\"],\"roots\":{\"1092\":\"0e488853-7bdc-475c-a88e-e6104f7763cc\"}}];\n",
       "    root.Bokeh.embed.embed_items_notebook(docs_json, render_items);\n",
       "  }\n",
       "  if (root.Bokeh !== undefined && root.Bokeh.Panel !== undefined) {\n",
       "    embed_document(root);\n",
       "  } else {\n",
       "    var attempts = 0;\n",
       "    var timer = setInterval(function(root) {\n",
       "      if (root.Bokeh !== undefined && root.Bokeh.Panel !== undefined) {\n",
       "        clearInterval(timer);\n",
       "        embed_document(root);\n",
       "      } else if (document.readyState == \"complete\") {\n",
       "        attempts++;\n",
       "        if (attempts > 100) {\n",
       "          clearInterval(timer);\n",
       "          console.log(\"Bokeh: ERROR: Unable to run BokehJS code because BokehJS library is missing\");\n",
       "        }\n",
       "      }\n",
       "    }, 10, root)\n",
       "  }\n",
       "})(window);</script>"
      ],
      "text/plain": [
       "Column\n",
       "    [0] Button(name='reset')\n",
       "    [1] IPyLeaflet(Map)"
      ]
     },
     "execution_count": 127,
     "metadata": {
      "application/vnd.holoviews_exec.v0+json": {
       "id": "1092"
      }
     },
     "output_type": "execute_result"
    }
   ],
   "source": [
    "pn.Column(button, pane)"
   ]
  },
  {
   "cell_type": "code",
   "execution_count": 133,
   "id": "accomplished-money",
   "metadata": {},
   "outputs": [
    {
     "data": {},
     "metadata": {},
     "output_type": "display_data"
    },
    {
     "data": {
      "application/vnd.holoviews_exec.v0+json": "",
      "text/html": [
       "<div id='1121'>\n",
       "\n",
       "\n",
       "\n",
       "\n",
       "\n",
       "  <div class=\"bk-root\" id=\"b04f49ed-5ba3-4582-a722-24819d5ee801\" data-root-id=\"1121\"></div>\n",
       "</div>\n",
       "<script type=\"application/javascript\">(function(root) {\n",
       "  function embed_document(root) {\n",
       "    var docs_json = {\"da0090f5-4cb6-4193-932b-a237eadb683f\":{\"defs\":[{\"extends\":null,\"module\":null,\"name\":\"DataModel\",\"overrides\":[],\"properties\":[]}],\"roots\":{\"references\":[{\"attributes\":{\"client_comm_id\":\"b8e4ed8ab863462aa86faa08e7398dd3\",\"comm_id\":\"b51810ffcb914f7b91a2eb0a9fca7367\",\"plot_id\":\"1121\"},\"id\":\"1124\",\"type\":\"panel.models.comm_manager.CommManager\"},{\"attributes\":{\"button_type\":\"primary\",\"icon\":null,\"label\":\"Click me\",\"margin\":[5,10,5,10],\"subscribed_events\":[\"button_click\"]},\"id\":\"1122\",\"type\":\"Button\"},{\"attributes\":{\"children\":[{\"id\":\"1122\"},{\"id\":\"1123\"}],\"margin\":[0,0,0,0],\"name\":\"Row00282\"},\"id\":\"1121\",\"type\":\"Row\"},{\"attributes\":{\"margin\":[5,10,5,10],\"max_length\":5000,\"value\":\"Ready\"},\"id\":\"1123\",\"type\":\"TextInput\"}],\"root_ids\":[\"1121\",\"1124\"]},\"title\":\"Bokeh Application\",\"version\":\"2.3.0\"}};\n",
       "    var render_items = [{\"docid\":\"da0090f5-4cb6-4193-932b-a237eadb683f\",\"root_ids\":[\"1121\"],\"roots\":{\"1121\":\"b04f49ed-5ba3-4582-a722-24819d5ee801\"}}];\n",
       "    root.Bokeh.embed.embed_items_notebook(docs_json, render_items);\n",
       "  }\n",
       "  if (root.Bokeh !== undefined && root.Bokeh.Panel !== undefined) {\n",
       "    embed_document(root);\n",
       "  } else {\n",
       "    var attempts = 0;\n",
       "    var timer = setInterval(function(root) {\n",
       "      if (root.Bokeh !== undefined && root.Bokeh.Panel !== undefined) {\n",
       "        clearInterval(timer);\n",
       "        embed_document(root);\n",
       "      } else if (document.readyState == \"complete\") {\n",
       "        attempts++;\n",
       "        if (attempts > 100) {\n",
       "          clearInterval(timer);\n",
       "          console.log(\"Bokeh: ERROR: Unable to run BokehJS code because BokehJS library is missing\");\n",
       "        }\n",
       "      }\n",
       "    }, 10, root)\n",
       "  }\n",
       "})(window);</script>"
      ],
      "text/plain": [
       "Row\n",
       "    [0] Button(button_type='primary', name='Click me')\n",
       "    [1] TextInput(value='Ready')"
      ]
     },
     "execution_count": 133,
     "metadata": {
      "application/vnd.holoviews_exec.v0+json": {
       "id": "1121"
      }
     },
     "output_type": "execute_result"
    }
   ],
   "source": [
    "button = pn.widgets.Button(name='Click me', button_type='primary')\n",
    "text = pn.widgets.TextInput(value='Ready')\n",
    "\n",
    "def b(event):\n",
    "    text.value = 'Clicked {0} times'.format(button.clicks)\n",
    "    \n",
    "button.on_click(b)\n",
    "pn.Row(button, text)"
   ]
  },
  {
   "cell_type": "code",
   "execution_count": 135,
   "id": "unlimited-demand",
   "metadata": {},
   "outputs": [
    {
     "data": {},
     "metadata": {},
     "output_type": "display_data"
    },
    {
     "data": {
      "application/vnd.holoviews_exec.v0+json": "",
      "text/html": [
       "<div id='1131'>\n",
       "\n",
       "\n",
       "\n",
       "\n",
       "\n",
       "  <div class=\"bk-root\" id=\"9d13d278-ae17-442a-bec5-0f78cac12994\" data-root-id=\"1131\"></div>\n",
       "</div>\n",
       "<script type=\"application/javascript\">(function(root) {\n",
       "  function embed_document(root) {\n",
       "    var docs_json = {\"ea8d4e24-e8c7-4634-add2-cff5f7750876\":{\"defs\":[{\"extends\":null,\"module\":null,\"name\":\"DataModel\",\"overrides\":[],\"properties\":[]}],\"roots\":{\"references\":[{\"attributes\":{\"button_type\":\"primary\",\"icon\":null,\"label\":\"Click me\",\"margin\":[5,10,5,10],\"subscribed_events\":[\"button_click\"]},\"id\":\"1132\",\"type\":\"Button\"},{\"attributes\":{\"css_classes\":[\"markdown\"],\"margin\":[5,5,5,5],\"name\":\"Markdown00292\",\"text\":\"&lt;p&gt;Ready&lt;/p&gt;\"},\"id\":\"1133\",\"type\":\"panel.models.markup.HTML\"},{\"attributes\":{\"client_comm_id\":\"0cb8335414a24ebaaaa0cc390ab8b789\",\"comm_id\":\"d515e376766a40f38ebc4eb8f671db7d\",\"plot_id\":\"1131\"},\"id\":\"1134\",\"type\":\"panel.models.comm_manager.CommManager\"},{\"attributes\":{\"children\":[{\"id\":\"1132\"},{\"id\":\"1133\"}],\"margin\":[0,0,0,0],\"name\":\"Row00294\"},\"id\":\"1131\",\"type\":\"Row\"}],\"root_ids\":[\"1131\",\"1134\"]},\"title\":\"Bokeh Application\",\"version\":\"2.3.0\"}};\n",
       "    var render_items = [{\"docid\":\"ea8d4e24-e8c7-4634-add2-cff5f7750876\",\"root_ids\":[\"1131\"],\"roots\":{\"1131\":\"9d13d278-ae17-442a-bec5-0f78cac12994\"}}];\n",
       "    root.Bokeh.embed.embed_items_notebook(docs_json, render_items);\n",
       "  }\n",
       "  if (root.Bokeh !== undefined && root.Bokeh.Panel !== undefined) {\n",
       "    embed_document(root);\n",
       "  } else {\n",
       "    var attempts = 0;\n",
       "    var timer = setInterval(function(root) {\n",
       "      if (root.Bokeh !== undefined && root.Bokeh.Panel !== undefined) {\n",
       "        clearInterval(timer);\n",
       "        embed_document(root);\n",
       "      } else if (document.readyState == \"complete\") {\n",
       "        attempts++;\n",
       "        if (attempts > 100) {\n",
       "          clearInterval(timer);\n",
       "          console.log(\"Bokeh: ERROR: Unable to run BokehJS code because BokehJS library is missing\");\n",
       "        }\n",
       "      }\n",
       "    }, 10, root)\n",
       "  }\n",
       "})(window);</script>"
      ],
      "text/plain": [
       "Row\n",
       "    [0] Button(button_type='primary', name='Click me')\n",
       "    [1] Markdown(str)"
      ]
     },
     "execution_count": 135,
     "metadata": {
      "application/vnd.holoviews_exec.v0+json": {
       "id": "1131"
      }
     },
     "output_type": "execute_result"
    }
   ],
   "source": [
    "button = pn.widgets.Button(name='Click me', button_type='primary')\n",
    "text = pn.pane.Markdown(object='Ready')\n",
    "\n",
    "def b(event):\n",
    "    text.object = 'Clicked {0} times'.format(button.clicks)\n",
    "    \n",
    "button.on_click(b)\n",
    "pn.Row(button, text)"
   ]
  },
  {
   "cell_type": "code",
   "execution_count": 138,
   "id": "controlled-stroke",
   "metadata": {},
   "outputs": [],
   "source": [
    "selector = pn.widgets.Select(options=['a','b'])"
   ]
  },
  {
   "cell_type": "code",
   "execution_count": 157,
   "id": "metallic-guidance",
   "metadata": {},
   "outputs": [],
   "source": [
    "CURRENT_SUBSET = pn.widgets.TextInput(value='all')\n",
    "ALLDAYS = pn.widgets.Button(name='Alle dager')\n",
    "WEEKDAYS = pn.widgets.Button(name='Hverdager')\n",
    "WEEKENDS = pn.widgets.Button(name='Helg')\n",
    "\n",
    "def callback_all(event):\n",
    "    global CURRENT_SUBSET\n",
    "    CURRENT_SUBSET.value = 'all'\n",
    "def callback_weekdays(event):\n",
    "    global CURRENT_SUBSET\n",
    "    CURRENT_SUBSET.value = 'weekdays'\n",
    "def callback_weekends(event):\n",
    "    global CURRENT_SUBSET\n",
    "    CURRENT_SUBSET.value = 'weekends'\n",
    "\n",
    "ALLDAYS.on_click(callback_all)\n",
    "WEEKDAYS.on_click(callback_weekdays)\n",
    "WEEKENDS.on_click(callback_weekends)\n"
   ]
  },
  {
   "cell_type": "code",
   "execution_count": 158,
   "id": "large-likelihood",
   "metadata": {},
   "outputs": [
    {
     "data": {},
     "metadata": {},
     "output_type": "display_data"
    },
    {
     "data": {
      "application/vnd.holoviews_exec.v0+json": "",
      "text/html": [
       "<div id='1156'>\n",
       "\n",
       "\n",
       "\n",
       "\n",
       "\n",
       "  <div class=\"bk-root\" id=\"188e8c43-91a1-40e5-8dda-2329fadb2d4a\" data-root-id=\"1156\"></div>\n",
       "</div>\n",
       "<script type=\"application/javascript\">(function(root) {\n",
       "  function embed_document(root) {\n",
       "    var docs_json = {\"1d76775c-92f2-40eb-89ae-a66e655ab8db\":{\"defs\":[{\"extends\":null,\"module\":null,\"name\":\"DataModel\",\"overrides\":[],\"properties\":[]}],\"roots\":{\"references\":[{\"attributes\":{\"children\":[{\"id\":\"1158\"},{\"id\":\"1159\"},{\"id\":\"1160\"}],\"margin\":[0,0,0,0],\"name\":\"Column00328\"},\"id\":\"1157\",\"type\":\"Column\"},{\"attributes\":{\"icon\":null,\"label\":\"Alle dager\",\"margin\":[5,10,5,10],\"subscribed_events\":[\"button_click\"]},\"id\":\"1158\",\"type\":\"Button\"},{\"attributes\":{\"client_comm_id\":\"dccca65b8c6945fda2f8657247e575b8\",\"comm_id\":\"d9708657a0b94755b65b6c3ed10df776\",\"plot_id\":\"1156\"},\"id\":\"1162\",\"type\":\"panel.models.comm_manager.CommManager\"},{\"attributes\":{\"margin\":[5,10,5,10],\"max_length\":5000,\"value\":\"all\"},\"id\":\"1161\",\"type\":\"TextInput\"},{\"attributes\":{\"icon\":null,\"label\":\"Hverdager\",\"margin\":[5,10,5,10],\"subscribed_events\":[\"button_click\"]},\"id\":\"1159\",\"type\":\"Button\"},{\"attributes\":{\"children\":[{\"id\":\"1157\"},{\"id\":\"1161\"}],\"margin\":[0,0,0,0],\"name\":\"Row00329\"},\"id\":\"1156\",\"type\":\"Row\"},{\"attributes\":{\"icon\":null,\"label\":\"Helg\",\"margin\":[5,10,5,10],\"subscribed_events\":[\"button_click\"]},\"id\":\"1160\",\"type\":\"Button\"}],\"root_ids\":[\"1156\",\"1162\"]},\"title\":\"Bokeh Application\",\"version\":\"2.3.0\"}};\n",
       "    var render_items = [{\"docid\":\"1d76775c-92f2-40eb-89ae-a66e655ab8db\",\"root_ids\":[\"1156\"],\"roots\":{\"1156\":\"188e8c43-91a1-40e5-8dda-2329fadb2d4a\"}}];\n",
       "    root.Bokeh.embed.embed_items_notebook(docs_json, render_items);\n",
       "  }\n",
       "  if (root.Bokeh !== undefined && root.Bokeh.Panel !== undefined) {\n",
       "    embed_document(root);\n",
       "  } else {\n",
       "    var attempts = 0;\n",
       "    var timer = setInterval(function(root) {\n",
       "      if (root.Bokeh !== undefined && root.Bokeh.Panel !== undefined) {\n",
       "        clearInterval(timer);\n",
       "        embed_document(root);\n",
       "      } else if (document.readyState == \"complete\") {\n",
       "        attempts++;\n",
       "        if (attempts > 100) {\n",
       "          clearInterval(timer);\n",
       "          console.log(\"Bokeh: ERROR: Unable to run BokehJS code because BokehJS library is missing\");\n",
       "        }\n",
       "      }\n",
       "    }, 10, root)\n",
       "  }\n",
       "})(window);</script>"
      ],
      "text/plain": [
       "Row\n",
       "    [0] Column\n",
       "        [0] Button(name='Alle dager')\n",
       "        [1] Button(name='Hverdager')\n",
       "        [2] Button(name='Helg')\n",
       "    [1] TextInput(value='all')"
      ]
     },
     "execution_count": 158,
     "metadata": {
      "application/vnd.holoviews_exec.v0+json": {
       "id": "1156"
      }
     },
     "output_type": "execute_result"
    }
   ],
   "source": [
    "pn.Row(pn.Column(ALLDAYS, WEEKDAYS, WEEKENDS), CURRENT_SUBSET)"
   ]
  },
  {
   "cell_type": "code",
   "execution_count": 156,
   "id": "impressive-sapphire",
   "metadata": {},
   "outputs": [
    {
     "data": {
      "text/plain": [
       "'all'"
      ]
     },
     "execution_count": 156,
     "metadata": {},
     "output_type": "execute_result"
    }
   ],
   "source": [
    "CURRENT_SUBSET.value"
   ]
  },
  {
   "cell_type": "code",
   "execution_count": null,
   "id": "extraordinary-queensland",
   "metadata": {},
   "outputs": [],
   "source": []
  }
 ],
 "metadata": {
  "kernelspec": {
   "display_name": "Python 3",
   "language": "python",
   "name": "python3"
  },
  "language_info": {
   "codemirror_mode": {
    "name": "ipython",
    "version": 3
   },
   "file_extension": ".py",
   "mimetype": "text/x-python",
   "name": "python",
   "nbconvert_exporter": "python",
   "pygments_lexer": "ipython3",
   "version": "3.7.9"
  },
  "latex_envs": {
   "LaTeX_envs_menu_present": true,
   "autoclose": true,
   "autocomplete": true,
   "bibliofile": "biblio.bib",
   "cite_by": "apalike",
   "current_citInitial": 1,
   "eqLabelWithNumbers": true,
   "eqNumInitial": 1,
   "hotkeys": {
    "equation": "Ctrl-E",
    "itemize": "Ctrl-I"
   },
   "labels_anchors": false,
   "latex_user_defs": false,
   "report_style_numbering": false,
   "user_envs_cfg": false
  },
  "toc": {
   "base_numbering": 1,
   "nav_menu": {},
   "number_sections": true,
   "sideBar": true,
   "skip_h1_title": false,
   "title_cell": "Table of Contents",
   "title_sidebar": "Contents",
   "toc_cell": false,
   "toc_position": {},
   "toc_section_display": true,
   "toc_window_display": false
  }
 },
 "nbformat": 4,
 "nbformat_minor": 5
}
