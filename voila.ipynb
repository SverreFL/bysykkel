{
 "cells": [
  {
   "cell_type": "code",
   "execution_count": 1,
   "id": "polish-radio",
   "metadata": {},
   "outputs": [],
   "source": [
    "import pandas as pd\n",
    "import numpy as np\n",
    "\n",
    "from pathlib import Path\n",
    "from ipyleaflet import Map, CircleMarker, GeoData, FullScreenControl, basemaps, Popup\n",
    "from ipywidgets import RadioButtons, HTML, interact, Button\n",
    "#from utilities.map import stations, trips, geometries\n",
    "path = Path('resources/data')"
   ]
  },
  {
   "cell_type": "code",
   "execution_count": 1,
   "id": "convinced-version",
   "metadata": {},
   "outputs": [
    {
     "name": "stdout",
     "output_type": "stream",
     "text": [
      "Python 3.7.10\n"
     ]
    }
   ],
   "source": [
    "!python --version"
   ]
  },
  {
   "cell_type": "code",
   "execution_count": 2,
   "id": "weekly-refrigerator",
   "metadata": {},
   "outputs": [],
   "source": [
    "stations = pd.read_pickle(path / 'stations')\n",
    "trips = pd.read_pickle(path / 'trips')\n",
    "trips = trips.fillna(0)\n",
    "\n",
    "geometries = pd.read_pickle('resources/geometry/geometries1')\n"
   ]
  },
  {
   "cell_type": "code",
   "execution_count": 11,
   "id": "micro-speech",
   "metadata": {},
   "outputs": [],
   "source": [
    "HAS_CLICKED = False \n",
    "CURRENT_SUBSET = 'all'\n",
    "CURRENT_STATION_ID = None"
   ]
  },
  {
   "cell_type": "code",
   "execution_count": 12,
   "id": "toxic-breach",
   "metadata": {},
   "outputs": [],
   "source": [
    "def add_paths(station_id):\n",
    "    '''\n",
    "    helper som legger til paths fra stasjon når clicker på marker\n",
    "    '''\n",
    "    trips_sub = trips.loc[CURRENT_SUBSET]\n",
    "    bins = pd.cut(trips_sub.loc[station_id, 'num_trips'], bins=10, labels=range(10)) \n",
    "    for idx in geometries.loc[station_id].index:\n",
    "        if trips_sub.loc[(station_id, idx)]['num_trips'] < 1:\n",
    "            continue\n",
    "        geom = geometries.loc[(station_id, idx)]\n",
    "        if not isinstance(geom, float): # hacky måte å sjekke om nan...\n",
    "            weight = 1 + 0.2*bins[idx]\n",
    "            path_layer = GeoData(geo_dataframe = geom, style={'color':'black', 'weight':weight})\n",
    "            m.add_layer(path_layer)\n",
    "\n",
    "def remove_paths():\n",
    "    '''\n",
    "    helper som fjerne eksisterende paths når clicker på ny marker\n",
    "    '''\n",
    "    for x in m.layers:\n",
    "        if isinstance(x, GeoData):\n",
    "            m.remove_layer(x)\n"
   ]
  },
  {
   "cell_type": "code",
   "execution_count": 13,
   "id": "united-deputy",
   "metadata": {},
   "outputs": [],
   "source": [
    "def get_duration(origin, destination):\n",
    "    '''\n",
    "    returnerer formatert string med gj.snitt reisetid\n",
    "    '''\n",
    "    trips_sub = trips.loc[CURRENT_SUBSET]\n",
    "    obs = trips_sub.loc[(origin, destination)].astype(int)\n",
    "    if obs['num_trips'] == 0:\n",
    "        string_out = ''\n",
    "    elif obs.hours > 0:\n",
    "        string_out = 'Over 60 min'\n",
    "    else:\n",
    "        minutes = '0' + str(obs.minutes) if len(str(obs.minutes)) == 1 else str(obs.minutes)\n",
    "        seconds = '0' + str(obs.seconds) if len(str(obs.seconds)) == 1 else str(obs.seconds)\n",
    "        string_out = minutes + ':' + seconds\n",
    "    return string_out\n",
    "\n",
    "def make_markers(stations):\n",
    "    '''\n",
    "    returnere series med stasjons_id : CircleMarker objekt\n",
    "    '''\n",
    "    # node_ids = get_node_ids(stations) # series\n",
    "    markers = pd.Series(index=stations.index, dtype='object')\n",
    "    for idx in stations.index:\n",
    "    #   node_id = node_ids[idx]\n",
    "        location = stations.loc[idx, ['latitude','longitude']].to_list()\n",
    "        marker = CircleMarker(location=location, radius=4, weight=3,\n",
    "                            title = stations.loc[idx,'name'],\n",
    "                            color='green', fill_opacity=0.2)\n",
    "        marker.on_click(handle_click)\n",
    "\n",
    "        marker.on_mouseover(handle_mouseover)\n",
    "        marker.on_mouseout(handle_mouseout)\n",
    "        markers.loc[idx] = marker\n",
    "    return markers        \n"
   ]
  },
  {
   "cell_type": "code",
   "execution_count": 14,
   "id": "solid-template",
   "metadata": {},
   "outputs": [
    {
     "data": {
      "application/vnd.jupyter.widget-view+json": {
       "model_id": "6d097895309f41b4b60d764597015f6a",
       "version_major": 2,
       "version_minor": 0
      },
      "text/plain": [
       "interactive(children=(RadioButtons(description='Hvilke dager', options=('Alle dager', 'Hverdager', 'Helg'), va…"
      ]
     },
     "metadata": {},
     "output_type": "display_data"
    }
   ],
   "source": [
    "radio_buttons = RadioButtons(options=['Alle dager', 'Hverdager', 'Helg'], description='Hvilke dager')\n",
    "@interact(x=radio_buttons)\n",
    "def plot_df(x):\n",
    "    global CURRENT_SUBSET\n",
    "    table = {'Alle dager':'all', 'Hverdager':'weekdays', 'Helg':'weekends'}\n",
    "    CURRENT_SUBSET = table[x]\n",
    "    if HAS_CLICKED:\n",
    "        remove_paths()\n",
    "        add_paths(CURRENT_STATION_ID)\n",
    "        "
   ]
  },
  {
   "cell_type": "code",
   "execution_count": 15,
   "id": "consecutive-spanish",
   "metadata": {},
   "outputs": [],
   "source": [
    "# dropper denne tror jeg\n",
    "reset_button = Button(description='Nullstill')\n",
    "def reset_callback(*args, **kwargs):\n",
    "    global CURRENT_SUBSET, HAS_CLICKED, CURRENT_STATION_ID\n",
    "    CURRENT_SUBSET = 'all'\n",
    "    HAS_CLICKED = False\n",
    "    CURRENT_STATION_ID = None\n",
    "    remove_paths()\n",
    "reset_button.on_click(reset_callback)\n",
    "#reset_button    "
   ]
  },
  {
   "cell_type": "code",
   "execution_count": 16,
   "id": "numeric-argentina",
   "metadata": {},
   "outputs": [],
   "source": [
    "def handle_click(*args, **kwargs):\n",
    "    global HAS_CLICKED, CURRENT_STATION_ID\n",
    "    HAS_CLICKED = True\n",
    "    y, x = kwargs['coordinates']\n",
    "    # hacky løsning for å finne stasjonsid som er nærmest koordinat...\n",
    "    num_idx = (np.abs(stations.latitude-y)+np.abs(stations.longitude-x)).argmin()\n",
    "    station_id = stations.index[num_idx]\n",
    "\n",
    "    CURRENT_STATION_ID = int(station_id)\n",
    "\n",
    "    remove_paths()\n",
    "    add_paths(int(station_id))\n",
    "\n",
    "def handle_mouseover(*args, **kwargs):\n",
    "    y, x = kwargs['coordinates']\n",
    "    # hacky løsning for å finne stasjonsid som er nærmest koordinat...\n",
    "    num_idx = (abs(stations.latitude-y)).argmin()\n",
    "    station_id = stations.index[num_idx]\n",
    "    \n",
    "    trips_sub = trips.loc[CURRENT_SUBSET]\n",
    "    if not HAS_CLICKED:\n",
    "        msg = HTML(value=stations.loc[station_id, 'name'])\n",
    "        popup = Popup(location=[y,x], child=msg)\n",
    "        m.add_layer(popup)\n",
    "    if HAS_CLICKED:\n",
    "        line1 = stations.loc[station_id, 'name']\n",
    "        line2 = f'Antall reiser: {trips_sub.loc[(CURRENT_STATION_ID, station_id),\"num_trips\"]}'\n",
    "        line3 = f'Gj.snitt tid: {get_duration(CURRENT_STATION_ID, station_id)}'\n",
    "        value = '<br>'.join(line for line in [line1, line2, line3])\n",
    "\n",
    "        msg = HTML(value=value)\n",
    "        popup = Popup(location=[y,x], child=msg)\n",
    "        m.add_layer(popup)\n",
    "\n",
    "def handle_mouseout(**kwargs):\n",
    "    # Må finnes smartere måter ...\n",
    "    for x in m.layers:\n",
    "        if isinstance(x,Popup):\n",
    "            m.remove_layer(x)   "
   ]
  },
  {
   "cell_type": "code",
   "execution_count": 17,
   "id": "published-mongolia",
   "metadata": {},
   "outputs": [],
   "source": [
    "def make_markers(stations):\n",
    "    '''\n",
    "    returnere series med stasjons_id : CircleMarker objekt\n",
    "    '''\n",
    "    # node_ids = get_node_ids(stations) # series\n",
    "    markers = pd.Series(index=stations.index, dtype='object')\n",
    "    for idx in stations.index:\n",
    "    #   node_id = node_ids[idx]\n",
    "        location = stations.loc[idx, ['latitude','longitude']].to_list()\n",
    "        marker = CircleMarker(location=location, radius=4, weight=3,\n",
    "                            title = stations.loc[idx,'name'],\n",
    "                            color='green', fill_opacity=0.2)\n",
    "        marker.on_click(handle_click)\n",
    "\n",
    "        marker.on_mouseover(handle_mouseover)\n",
    "        marker.on_mouseout(handle_mouseout)\n",
    "        markers.loc[idx] = marker\n",
    "    return markers        \n",
    "\n",
    "            \n",
    "def initialize_map():\n",
    "    center = [60.388197,5.328564]\n",
    "    zoom = 13\n",
    "    m = Map(center=center, zoom=zoom)\n",
    "    m.add_control(FullScreenControl())\n",
    "    markers = make_markers(stations)\n",
    "\n",
    "    for marker in markers:\n",
    "        m.add_layer(marker)\n",
    "\n",
    "    return m\n",
    "m = initialize_map()\n"
   ]
  },
  {
   "cell_type": "code",
   "execution_count": 18,
   "id": "convenient-decrease",
   "metadata": {},
   "outputs": [
    {
     "data": {
      "application/vnd.jupyter.widget-view+json": {
       "model_id": "04ae23f50ace441d92eb66f7c6b7abee",
       "version_major": 2,
       "version_minor": 0
      },
      "text/plain": [
       "Map(center=[60.388197, 5.328564], controls=(ZoomControl(options=['position', 'zoom_in_text', 'zoom_in_title', …"
      ]
     },
     "metadata": {},
     "output_type": "display_data"
    }
   ],
   "source": [
    "m"
   ]
  },
  {
   "cell_type": "code",
   "execution_count": null,
   "id": "wound-pontiac",
   "metadata": {},
   "outputs": [],
   "source": []
  }
 ],
 "metadata": {
  "kernelspec": {
   "display_name": "Python 3",
   "language": "python",
   "name": "python3"
  },
  "language_info": {
   "codemirror_mode": {
    "name": "ipython",
    "version": 3
   },
   "file_extension": ".py",
   "mimetype": "text/x-python",
   "name": "python",
   "nbconvert_exporter": "python",
   "pygments_lexer": "ipython3",
   "version": "3.7.10"
  },
  "latex_envs": {
   "LaTeX_envs_menu_present": true,
   "autoclose": true,
   "autocomplete": true,
   "bibliofile": "biblio.bib",
   "cite_by": "apalike",
   "current_citInitial": 1,
   "eqLabelWithNumbers": true,
   "eqNumInitial": 1,
   "hotkeys": {
    "equation": "Ctrl-E",
    "itemize": "Ctrl-I"
   },
   "labels_anchors": false,
   "latex_user_defs": false,
   "report_style_numbering": false,
   "user_envs_cfg": false
  },
  "toc": {
   "base_numbering": 1,
   "nav_menu": {},
   "number_sections": true,
   "sideBar": true,
   "skip_h1_title": false,
   "title_cell": "Table of Contents",
   "title_sidebar": "Contents",
   "toc_cell": false,
   "toc_position": {},
   "toc_section_display": true,
   "toc_window_display": false
  }
 },
 "nbformat": 4,
 "nbformat_minor": 5
}
